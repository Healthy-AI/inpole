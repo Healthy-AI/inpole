{
 "cells": [
  {
   "cell_type": "code",
   "execution_count": 1,
   "id": "1ccad9ee-3a07-4f4d-a2e3-13d69e898731",
   "metadata": {},
   "outputs": [],
   "source": [
    "import pandas as pd \n",
    "import numpy as np"
   ]
  },
  {
   "cell_type": "code",
   "execution_count": null,
   "id": "13b71df2-06c0-48d4-b6d0-3dd3a02c1a5a",
   "metadata": {},
   "outputs": [],
   "source": [
    "class COPDPreprocessing:\n",
    "    def __init__(self, filename):\n",
    "        self.df = pd.read_csv(filename)\n",
    "        self.continuous_columns = []\n",
    "\n",
    "    def create_treatment_columns(self):\n",
    "        # Fluid intakes\n",
    "        conditions = [(self.df[col] != 0) for col in ['MEDS_220949.0', 'MEDS_225943.0', 'MEDS_225158.0']]\n",
    "        self.df['Fluids_intakes'] = np.select(conditions, [self.df[col] for col in ['MEDS_220949.0', 'MEDS_225943.0', 'MEDS_225158.0']], default=0)\n",
    "        self.df.drop(['MEDS_220949.0', 'MEDS_225943.0', 'MEDS_225158.0'], axis=1, inplace=True)\n",
    "\n",
    "        # Sedation\n",
    "        self.df['sedation'] = np.where(self.df['MEDS_222168.0'] != 0, self.df['MEDS_222168.0'], self.df['MEDS_225942.0'])\n",
    "        self.df.drop(['MEDS_222168.0', 'MEDS_225942.0'], axis=1, inplace=True)\n",
    "\n",
    "    def limit_missingness(self):\n",
    "        percent_missing = self.df.isna().mean() * 100\n",
    "        exclude_columns = ['sedation', 'Fluids_intakes']\n",
    "        columns_to_drop = percent_missing[(percent_missing > 20) & (~percent_missing.index.isin(exclude_columns))].index\n",
    "        self.df = self.df.drop(columns=columns_to_drop)\n",
    "\n",
    "    def impute_missing_values(self):\n",
    "        # Impute continuous columns with mean per patient\n",
    "        self.continuous_columns = [col for col in self.df.select_dtypes(include=[np.number]).columns if col not in ['PatientID']]\n",
    "        self.df[self.continuous_columns] = self.df.groupby('PatientID')[self.continuous_columns].transform(lambda x: x.fillna(x.mean()))\n",
    "\n",
    "        # Fill remaining NaNs with zero\n",
    "        self.df.fillna(0, inplace=True)\n",
    "\n",
    "    def save_data(self, filename='COPD_1302.csv', pickle_filename='COPD_1302.pkl'):\n",
    "        self.df.to_csv(filename, index=False)\n",
    "        self.df.to_pickle(pickle_filename)"
   ]
  },
  {
   "cell_type": "code",
   "execution_count": null,
   "id": "292e1b3e-a928-4ecc-9ea9-b8697f2a4f44",
   "metadata": {},
   "outputs": [],
   "source": [
    "# Example usage\n",
    "processor = COPDPreprocessing('FullFrame.csv')\n",
    "processor.create_treatment_columns()\n",
    "processor.limit_missingness()\n",
    "processor.impute_missing_values()\n",
    "processor.save_data()"
   ]
  }
 ],
 "metadata": {
  "kernelspec": {
   "display_name": "Python 3 (ipykernel)",
   "language": "python",
   "name": "python3"
  },
  "language_info": {
   "codemirror_mode": {
    "name": "ipython",
    "version": 3
   },
   "file_extension": ".py",
   "mimetype": "text/x-python",
   "name": "python",
   "nbconvert_exporter": "python",
   "pygments_lexer": "ipython3",
   "version": "3.9.5"
  }
 },
 "nbformat": 4,
 "nbformat_minor": 5
}
