{
 "cells": [
  {
   "cell_type": "markdown",
   "metadata": {},
   "source": [
    "# Make ADNI data"
   ]
  },
  {
   "cell_type": "code",
   "execution_count": 1,
   "metadata": {},
   "outputs": [],
   "source": [
    "import pandas as pd"
   ]
  },
  {
   "cell_type": "markdown",
   "metadata": {},
   "source": [
    "## Load data"
   ]
  },
  {
   "cell_type": "code",
   "execution_count": 2,
   "metadata": {},
   "outputs": [],
   "source": [
    "adni = pd.read_csv('../data/adni_data.csv', low_memory=False)"
   ]
  },
  {
   "cell_type": "markdown",
   "metadata": {},
   "source": [
    "## Select features"
   ]
  },
  {
   "cell_type": "code",
   "execution_count": 3,
   "metadata": {},
   "outputs": [],
   "source": [
    "# Filter out visits without a CDR-SB measurement.\n",
    "assert adni['CDRSB.bl'].notnull().all()\n",
    "has_cdrsb = adni.CDRSB.notnull()\n",
    "adni_filtered = adni[has_cdrsb]\n",
    "\n",
    "# Filter out visits without a diagnosis.\n",
    "has_dx = adni_filtered.DX.notnull()\n",
    "adni_filtered = adni_filtered[has_dx]\n",
    "\n",
    "# Filter out visits separated by more than 6 months from the previous one.\n",
    "months_between_visits = adni_filtered.groupby('RID')['M'].diff().fillna(0)\n",
    "is_regular_and_continuous = (months_between_visits <= 6.0).groupby(adni_filtered.RID).cummin()\n",
    "adni_filtered = adni_filtered[is_regular_and_continuous]\n",
    "\n",
    "# Filter out patients with less than 2 visits.\n",
    "visit_counts = adni_filtered.groupby('RID').size()\n",
    "patients_with_at_least_two_visits = visit_counts[visit_counts >= 2].index\n",
    "adni_filtered = adni_filtered[adni_filtered.RID.isin(patients_with_at_least_two_visits)]\n",
    "\n",
    "# Filter out visits before 2020-10-02 (ICLR 2021 submission deadline).\n",
    "#is_before_iclr_deadline = pd.to_datetime(adni_filtered.EXAMDATE) <= '2020-10-02'\n",
    "#adni_filtered = adni_filtered[is_before_iclr_deadline]"
   ]
  },
  {
   "cell_type": "code",
   "execution_count": 4,
   "metadata": {},
   "outputs": [
    {
     "data": {
      "text/plain": [
       "1605"
      ]
     },
     "execution_count": 4,
     "metadata": {},
     "output_type": "execute_result"
    }
   ],
   "source": [
    "# In Pace et al. (2022), 1626 patients were included in the dataset...\n",
    "\n",
    "adni_filtered.groupby('RID').ngroups"
   ]
  },
  {
   "cell_type": "code",
   "execution_count": 5,
   "metadata": {},
   "outputs": [
    {
     "data": {
      "text/plain": [
       "3    1108\n",
       "5     285\n",
       "2     178\n",
       "4      34\n",
       "dtype: int64"
      ]
     },
     "execution_count": 5,
     "metadata": {},
     "output_type": "execute_result"
    }
   ],
   "source": [
    "# ... and the patients had a median of three visits.\n",
    "\n",
    "adni_filtered.groupby('RID').size().value_counts()"
   ]
  },
  {
   "cell_type": "code",
   "execution_count": 6,
   "metadata": {},
   "outputs": [
    {
     "data": {
      "text/plain": [
       "LMCI    2185\n",
       "CN      1157\n",
       "AD       873\n",
       "EMCI     810\n",
       "SMC      216\n",
       "Name: DX.bl, dtype: int64"
      ]
     },
     "execution_count": 6,
     "metadata": {},
     "output_type": "execute_result"
    }
   ],
   "source": [
    "# Let's have a look at the diagnosis distribution at baseline.\n",
    "# - LMCI = late mild cognitive impairment\n",
    "# - CN = cognitively normal\n",
    "# - AD = Alzheimer's disease\n",
    "# - EMCI = early mild cognitive impairment\n",
    "# - SMC = subjective memory concerns\n",
    "\n",
    "adni_filtered['DX.bl'].value_counts()"
   ]
  },
  {
   "cell_type": "code",
   "execution_count": 7,
   "metadata": {},
   "outputs": [],
   "source": [
    "# The task consists of predicting whether an MRI scan was ordered.\n",
    "\n",
    "adni_filtered['MRI_ordered'] = adni_filtered.Hippocampus.notnull().astype(int)"
   ]
  },
  {
   "cell_type": "code",
   "execution_count": 8,
   "metadata": {},
   "outputs": [],
   "source": [
    "# From Pace et al. (2022): \"Patient observations consist of CDR-SB on a\n",
    "# severity scale following O'Bryant et al (2008)...\"\n",
    "\n",
    "# From Hüyük et al. (2021): \"The CDR-SB result is categorized as: \n",
    "# {'normal', 'questionable impairment', 'mild/severe dementia'}.\"\n",
    "\n",
    "# From O'Bryant et al. (2008): \"Optimal ranges of CDR-SOB scores corresponding\n",
    "# to the global CDR scores were 0.5 to 4.0 for a global score of 0.5, \n",
    "# 4.5 to 9.0 for a global score of 1.0, 9.5 to 15.5 for a global score of 2.0,\n",
    "# and 16.0 to 18.0 for a global score of 3.0.\"\n",
    "\n",
    "# From https://en.wikipedia.org/wiki/Clinical_Dementia_Rating:\n",
    "# global score of 0.5 = questionable impairment\n",
    "# global score of 1.0 = mild impairment\n",
    "# global score of 2.0 = moderate impairment\n",
    "# global score of 3.0 = severe impairment\n",
    "\n",
    "adni_filtered['CDRSB_cat'] = pd.cut(\n",
    "    adni_filtered.CDRSB,\n",
    "    bins=[0, 0.5, 4.5, 18.5],\n",
    "    right=False,\n",
    "    labels=[\"CDR-SB normal\", \"CDR-SB questionable\", \"CDR-SB severe\"]\n",
    ")"
   ]
  },
  {
   "cell_type": "code",
   "execution_count": 9,
   "metadata": {},
   "outputs": [],
   "source": [
    "# From Pace et al. (2022): \"... and the MRI outcome of the previous visit, \n",
    "# categorized into four possibilities (no MRI scan; below average, average and \n",
    "# above average hippocampal volume).\"\n",
    "\n",
    "hippocampus_mean = adni_filtered.Hippocampus.mean(skipna=True)\n",
    "hippocampus_std = adni_filtered.Hippocampus.std(skipna=True)\n",
    "\n",
    "def mri_outcome(volume):\n",
    "    if pd.isnull(volume):\n",
    "        return \"No MRI\"\n",
    "    if volume < hippocampus_mean - 0.5 * hippocampus_std:\n",
    "        return \"Vh low\"\n",
    "    elif volume > hippocampus_mean + 0.5 * hippocampus_std:\n",
    "        return \"Vh high\"\n",
    "    else:\n",
    "        return \"Vh average\"\n",
    "\n",
    "adni_filtered[\"MRI_outcome\"] = adni_filtered.Hippocampus.apply(mri_outcome)\n",
    "\n",
    "adni_filtered[\"MRI_previous_outcome\"] = \\\n",
    "    adni_filtered.groupby('RID').MRI_outcome.shift(1, fill_value=\"No MRI\")"
   ]
  },
  {
   "cell_type": "markdown",
   "metadata": {},
   "source": [
    "### Compare with the code from Hüyük et al. (2021)"
   ]
  },
  {
   "cell_type": "code",
   "execution_count": 10,
   "metadata": {},
   "outputs": [],
   "source": [
    "df = adni.copy()\n",
    "df.DX.replace('CN', 'NL', inplace=True)"
   ]
  },
  {
   "cell_type": "code",
   "execution_count": 11,
   "metadata": {},
   "outputs": [],
   "source": [
    "# https://github.com/vanderschaarlab/mlforhealthlabpub/blob/main/alg/interpole/adni/data.py\n",
    "\n",
    "state = ['NL', 'MCI', 'Dementia']\n",
    "state += ['{} to {}'.format(s0, s1) for s0 in state for s1 in state if s0 != s1]\n",
    "state_dict = {s:i for s,i in zip(state,range(len(state)))}\n",
    "\n",
    "#df = pd.read_csv('data/adni.csv', low_memory=False)\n",
    "df = df[~df.DX.isna()]\n",
    "df = df[~df.CDRSB.isna()]\n",
    "\n",
    "visc = ['bl', 'm06'] + ['m{}'.format(k*6) for k in range(2,20)]\n",
    "rids = [df[df.VISCODE == vis].RID.unique() for vis in visc]\n",
    "for i in range(1,len(rids)):\n",
    "    rids[i] = [rid for rid in rids[i] if rid in rids[i-1]]\n",
    "\n",
    "df = df[df.VISCODE.isin(visc)]\n",
    "for vis, rid in zip(visc, rids):\n",
    "    df = df[df.RID.isin(rid) | (df.VISCODE != vis)]\n",
    "\n",
    "data = list()\n",
    "for rid in rids[0]:\n",
    "\n",
    "    traj = dict()\n",
    "    traj['s'] = list([None])\n",
    "    traj['a'] = list()\n",
    "    traj['z'] = list()\n",
    "    traj['tau'] = 0\n",
    "\n",
    "    df1 = df[df.RID == rid]\n",
    "    for vis in visc:\n",
    "\n",
    "        df2 = df1[df1.VISCODE == vis]\n",
    "        if df2.empty:\n",
    "            break\n",
    "\n",
    "        s = state_dict[df2.DX.values[0]]\n",
    "        a = 0 if df2.Hippocampus.isna().values[0] else 1\n",
    "        z0 = 0 if df2.CDRSB.values[0] == 0 else 1 if df2.CDRSB.values[0] <= 2.5 else 2\n",
    "        z1 = 0 if df2.Hippocampus.isna().values[0] else 1 if df2.Hippocampus.values[0] < 6642-.5*1225 else 2 if df2.Hippocampus.values[0] <= 6642+.5*1225 else 3\n",
    "\n",
    "        traj['s'].append(s)\n",
    "        traj['a'].append(a)\n",
    "        traj['z'].append(4*z0+z1)\n",
    "        traj['tau'] += 1\n",
    "\n",
    "    if traj['s'][-1] == 0 or traj['s'][-1] == 1 or traj['s'][-1] == 2:\n",
    "        data.append(traj)\n",
    "        #print('n = {}, tau = {}'.format(len(data), traj['tau']))"
   ]
  },
  {
   "cell_type": "code",
   "execution_count": 12,
   "metadata": {},
   "outputs": [
    {
     "data": {
      "text/plain": [
       "1605"
      ]
     },
     "execution_count": 12,
     "metadata": {},
     "output_type": "execute_result"
    }
   ],
   "source": [
    "sum([t['tau'] >= 2 for t in data])"
   ]
  },
  {
   "cell_type": "markdown",
   "metadata": {},
   "source": [
    "## Save data"
   ]
  },
  {
   "cell_type": "code",
   "execution_count": 13,
   "metadata": {},
   "outputs": [
    {
     "data": {
      "text/html": [
       "<div>\n",
       "<style scoped>\n",
       "    .dataframe tbody tr th:only-of-type {\n",
       "        vertical-align: middle;\n",
       "    }\n",
       "\n",
       "    .dataframe tbody tr th {\n",
       "        vertical-align: top;\n",
       "    }\n",
       "\n",
       "    .dataframe thead th {\n",
       "        text-align: right;\n",
       "    }\n",
       "</style>\n",
       "<table border=\"1\" class=\"dataframe\">\n",
       "  <thead>\n",
       "    <tr style=\"text-align: right;\">\n",
       "      <th></th>\n",
       "      <th>RID</th>\n",
       "      <th>CDRSB_cat</th>\n",
       "      <th>MRI_previous_outcome</th>\n",
       "      <th>MRI_ordered</th>\n",
       "      <th>AGE</th>\n",
       "      <th>PTGENDER</th>\n",
       "      <th>PTMARRY</th>\n",
       "      <th>PTEDUCAT</th>\n",
       "      <th>APOE4</th>\n",
       "    </tr>\n",
       "  </thead>\n",
       "  <tbody>\n",
       "    <tr>\n",
       "      <th>0</th>\n",
       "      <td>2</td>\n",
       "      <td>CDR-SB normal</td>\n",
       "      <td>No MRI</td>\n",
       "      <td>1</td>\n",
       "      <td>74.3</td>\n",
       "      <td>Male</td>\n",
       "      <td>Married</td>\n",
       "      <td>16</td>\n",
       "      <td>0.0</td>\n",
       "    </tr>\n",
       "    <tr>\n",
       "      <th>1</th>\n",
       "      <td>2</td>\n",
       "      <td>CDR-SB normal</td>\n",
       "      <td>Vh high</td>\n",
       "      <td>0</td>\n",
       "      <td>74.3</td>\n",
       "      <td>Male</td>\n",
       "      <td>Married</td>\n",
       "      <td>16</td>\n",
       "      <td>0.0</td>\n",
       "    </tr>\n",
       "    <tr>\n",
       "      <th>16</th>\n",
       "      <td>3</td>\n",
       "      <td>CDR-SB severe</td>\n",
       "      <td>No MRI</td>\n",
       "      <td>1</td>\n",
       "      <td>81.3</td>\n",
       "      <td>Male</td>\n",
       "      <td>Married</td>\n",
       "      <td>18</td>\n",
       "      <td>1.0</td>\n",
       "    </tr>\n",
       "    <tr>\n",
       "      <th>17</th>\n",
       "      <td>3</td>\n",
       "      <td>CDR-SB severe</td>\n",
       "      <td>Vh low</td>\n",
       "      <td>1</td>\n",
       "      <td>81.3</td>\n",
       "      <td>Male</td>\n",
       "      <td>Married</td>\n",
       "      <td>18</td>\n",
       "      <td>1.0</td>\n",
       "    </tr>\n",
       "    <tr>\n",
       "      <th>18</th>\n",
       "      <td>3</td>\n",
       "      <td>CDR-SB questionable</td>\n",
       "      <td>Vh low</td>\n",
       "      <td>1</td>\n",
       "      <td>81.3</td>\n",
       "      <td>Male</td>\n",
       "      <td>Married</td>\n",
       "      <td>18</td>\n",
       "      <td>1.0</td>\n",
       "    </tr>\n",
       "  </tbody>\n",
       "</table>\n",
       "</div>"
      ],
      "text/plain": [
       "    RID            CDRSB_cat MRI_previous_outcome  MRI_ordered   AGE PTGENDER  \\\n",
       "0     2        CDR-SB normal               No MRI            1  74.3     Male   \n",
       "1     2        CDR-SB normal              Vh high            0  74.3     Male   \n",
       "16    3        CDR-SB severe               No MRI            1  81.3     Male   \n",
       "17    3        CDR-SB severe               Vh low            1  81.3     Male   \n",
       "18    3  CDR-SB questionable               Vh low            1  81.3     Male   \n",
       "\n",
       "    PTMARRY  PTEDUCAT  APOE4  \n",
       "0   Married        16    0.0  \n",
       "1   Married        16    0.0  \n",
       "16  Married        18    1.0  \n",
       "17  Married        18    1.0  \n",
       "18  Married        18    1.0  "
      ]
     },
     "execution_count": 13,
     "metadata": {},
     "output_type": "execute_result"
    }
   ],
   "source": [
    "adni_filtered = adni_filtered[\n",
    "    [\n",
    "        'RID',\n",
    "        'CDRSB_cat',\n",
    "        'MRI_previous_outcome',\n",
    "        'MRI_ordered',\n",
    "        'AGE',\n",
    "        'PTGENDER',\n",
    "        'PTMARRY',\n",
    "        'PTEDUCAT',\n",
    "        'APOE4'\n",
    "    ]\n",
    "]\n",
    "adni_filtered.head()"
   ]
  },
  {
   "cell_type": "code",
   "execution_count": 14,
   "metadata": {},
   "outputs": [],
   "source": [
    "adni_filtered = adni_filtered.astype(\n",
    "    {\n",
    "        'RID': 'object',\n",
    "        'CDRSB_cat': 'category',\n",
    "        'MRI_previous_outcome': 'category',\n",
    "        'MRI_ordered': 'int64',\n",
    "        'AGE': 'float64',\n",
    "        'PTGENDER': 'category',\n",
    "        'PTMARRY': 'category',\n",
    "        'PTEDUCAT': 'float64',\n",
    "        'APOE4': 'category'\n",
    "    }\n",
    ")"
   ]
  },
  {
   "cell_type": "code",
   "execution_count": 15,
   "metadata": {},
   "outputs": [],
   "source": [
    "assert adni_filtered.notnull().all().all()"
   ]
  },
  {
   "cell_type": "code",
   "execution_count": 16,
   "metadata": {},
   "outputs": [],
   "source": [
    "adni_filtered.to_pickle('../data/adni_Xgy.pkl')"
   ]
  }
 ],
 "metadata": {
  "kernelspec": {
   "display_name": "ddt_env",
   "language": "python",
   "name": "python3"
  },
  "language_info": {
   "codemirror_mode": {
    "name": "ipython",
    "version": 3
   },
   "file_extension": ".py",
   "mimetype": "text/x-python",
   "name": "python",
   "nbconvert_exporter": "python",
   "pygments_lexer": "ipython3",
   "version": "3.10.8"
  },
  "orig_nbformat": 4
 },
 "nbformat": 4,
 "nbformat_minor": 2
}
