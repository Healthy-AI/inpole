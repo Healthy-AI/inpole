{
 "cells": [
  {
   "cell_type": "markdown",
   "metadata": {},
   "source": [
    "# Make RA data"
   ]
  },
  {
   "cell_type": "code",
   "execution_count": 1,
   "metadata": {},
   "outputs": [],
   "source": [
    "import os\n",
    "import pandas as pd"
   ]
  },
  {
   "cell_type": "markdown",
   "metadata": {},
   "source": [
    "## Load data"
   ]
  },
  {
   "cell_type": "code",
   "execution_count": 2,
   "metadata": {},
   "outputs": [],
   "source": [
    "data = pd.read_pickle('../data/ra_data.pkl')"
   ]
  },
  {
   "cell_type": "code",
   "execution_count": 3,
   "metadata": {},
   "outputs": [],
   "source": [
    "# Ignore IL-1 therapies.\n",
    "data.replace(['il-1 mono', 'il-1 combo'], 'other therapies', inplace=True)"
   ]
  },
  {
   "cell_type": "code",
   "execution_count": 4,
   "metadata": {},
   "outputs": [],
   "source": [
    "def rename_therapies(therapies):\n",
    "    therapy_mapper = {\n",
    "        'abatacept combo': 'Abatacept combo',\n",
    "        'abatacept mono': 'Abatacept mono',\n",
    "        'il-1 combo': 'IL-1Ri combo',\n",
    "        'il-1 mono': 'IL-1Ri mono',\n",
    "        'il-6 combo': 'IL-6Ri combo',\n",
    "        'il-6 mono': 'IL-6Ri mono',\n",
    "        'rituximab combo': 'Rituximab combo',\n",
    "        'rituximab mono': 'Rituximab mono',\n",
    "        'tnfi combo': 'TNFi combo',\n",
    "        'tnfi mono': 'TNFi mono',\n",
    "        'jaki combo': 'JAKi combo',\n",
    "        'jaki mono': 'JAKi mono',\n",
    "        'csdmard combo': 'csDMARD combo',\n",
    "        'csdmard mono': 'csDMARD mono',\n",
    "        'no dmard': 'No DMARD',\n",
    "        'other therapies': 'Other',\n",
    "    }\n",
    "\n",
    "    new_therapies = pd.Categorical(\n",
    "        [therapy_mapper[t] for t in therapies],\n",
    "        categories=therapy_mapper.values()\n",
    "    )\n",
    "    \n",
    "    return new_therapies.remove_unused_categories()\n",
    "\n",
    "data.therapy = rename_therapies(data.therapy)"
   ]
  },
  {
   "cell_type": "markdown",
   "metadata": {},
   "source": [
    "## A: Continous variables"
   ]
  },
  {
   "cell_type": "code",
   "execution_count": 5,
   "metadata": {},
   "outputs": [],
   "source": [
    "continuous_variables = [\n",
    "    'age',\n",
    "    'bmi',\n",
    "    'duration_ra',\n",
    "    'tender_jts_28',\n",
    "    'swollen_jts_28',\n",
    "    'cdai',\n",
    "    'das',\n",
    "    'pt_pain',\n",
    "    'pt_fatigues',\n",
    "]\n",
    "A = data[continuous_variables]\n",
    "A.insert(0, 'year', data.visitdate.dt.year)"
   ]
  },
  {
   "cell_type": "markdown",
   "metadata": {},
   "source": [
    "## B: Categorical variables"
   ]
  },
  {
   "cell_type": "code",
   "execution_count": 6,
   "metadata": {},
   "outputs": [],
   "source": [
    "categorical_variables = [\n",
    "    'gender',\n",
    "    'race',\n",
    "    'final_education',\n",
    "    'insurance_private',\n",
    "    'insurance_medicare',\n",
    "    'insurance_medicaid',\n",
    "    'insurance_none',\n",
    "    'smoker',\n",
    "    'work_status',\n",
    "    'rfpos',\n",
    "    'ccppos',\n",
    "    'comor_hld',\n",
    "    'comor_diabetes',\n",
    "    'med_probs_anxiety',\n",
    "    'med_probs_depression',\n",
    "    'med_probs_inf_hosp',\n",
    "    'am_stiffness',\n",
    "]\n",
    "B = data[categorical_variables]"
   ]
  },
  {
   "cell_type": "markdown",
   "metadata": {},
   "source": [
    "## C: Medical history"
   ]
  },
  {
   "cell_type": "code",
   "execution_count": 7,
   "metadata": {},
   "outputs": [],
   "source": [
    "cvd = [\n",
    "    'hxcor_art_dis',\n",
    "    'hxstroke',\n",
    "    'hxtia',\n",
    "    'hxcarotid',\n",
    "    'hxpef_art_dis',\n",
    "    'hxoth_clot',\n",
    "    'hxpulm_emb',\n",
    "    'hxmi',\n",
    "]\n",
    "hxcvd = pd.Series(data[cvd].sum(axis=1) > 0, name='hxcvd', dtype=bool)\n",
    "\n",
    "cancer = [\n",
    "    'hxbc',\n",
    "    'hxlc',\n",
    "    'hxlymphoma',\n",
    "    'hxskin_cancer_mel',\n",
    "    'hxoth_cancer',\n",
    "]\n",
    "hxcancer = pd.Series(data[cancer].sum(axis=1) > 0, name='hxcancer', dtype=bool)\n",
    "\n",
    "htn = ['hxhtn_hosp', 'hxhtn']\n",
    "hxhtn = pd.Series(data[htn].sum(axis=1) > 0, name='hxhtn', dtype=bool)\n",
    "\n",
    "C = pd.concat([hxcvd, hxcancer, hxhtn], axis=1)"
   ]
  },
  {
   "cell_type": "markdown",
   "metadata": {},
   "source": [
    "## D: Treatment history"
   ]
  },
  {
   "cell_type": "code",
   "execution_count": 8,
   "metadata": {},
   "outputs": [],
   "source": [
    "hxtherapy = [\n",
    "    'hxcsdmard',\n",
    "    'hxtnfi',\n",
    "    'hxabatacept',\n",
    "    'hxrituximab',\n",
    "    'hxil-6',\n",
    "    'hxjaki',\n",
    "]\n",
    "D  = data[hxtherapy].astype('boolean')"
   ]
  },
  {
   "cell_type": "markdown",
   "metadata": {},
   "source": [
    "## Save data"
   ]
  },
  {
   "cell_type": "code",
   "execution_count": 9,
   "metadata": {},
   "outputs": [],
   "source": [
    "X = pd.concat([A, B, C, D, data.visitdate], axis=1)"
   ]
  },
  {
   "cell_type": "code",
   "execution_count": 10,
   "metadata": {},
   "outputs": [],
   "source": [
    "X = X.groupby(by=data.id, sort=False).fillna(method='ffill')"
   ]
  },
  {
   "cell_type": "code",
   "execution_count": 11,
   "metadata": {},
   "outputs": [],
   "source": [
    "Xg = pd.concat([X, data.id], axis=1)"
   ]
  },
  {
   "cell_type": "code",
   "execution_count": 12,
   "metadata": {},
   "outputs": [],
   "source": [
    "Xgy = pd.concat([Xg, data.therapy], axis=1)"
   ]
  },
  {
   "cell_type": "code",
   "execution_count": 13,
   "metadata": {},
   "outputs": [],
   "source": [
    "Xgy.to_pickle('../data/ra_Xgy.pkl')"
   ]
  }
 ],
 "metadata": {
  "kernelspec": {
   "display_name": "ddt_env",
   "language": "python",
   "name": "python3"
  },
  "language_info": {
   "codemirror_mode": {
    "name": "ipython",
    "version": 3
   },
   "file_extension": ".py",
   "mimetype": "text/x-python",
   "name": "python",
   "nbconvert_exporter": "python",
   "pygments_lexer": "ipython3",
   "version": "3.10.8"
  },
  "orig_nbformat": 4
 },
 "nbformat": 4,
 "nbformat_minor": 2
}
