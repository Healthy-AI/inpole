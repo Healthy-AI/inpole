{
 "cells": [
  {
   "cell_type": "markdown",
   "metadata": {},
   "source": [
    "# Make RA data"
   ]
  },
  {
   "cell_type": "code",
   "execution_count": 1,
   "metadata": {},
   "outputs": [],
   "source": [
    "import pandas as pd"
   ]
  },
  {
   "cell_type": "code",
   "execution_count": 2,
   "metadata": {},
   "outputs": [],
   "source": [
    "impute = True"
   ]
  },
  {
   "cell_type": "code",
   "execution_count": 3,
   "metadata": {},
   "outputs": [],
   "source": [
    "def summarize(X, name, impute=False, min_count=0):\n",
    "    if impute:\n",
    "        return pd.Series(X.sum(axis=1) > 0, name=name, dtype='boolean')\n",
    "    else:\n",
    "        num_nan = X.isna().sum(axis=1)\n",
    "        n = X.shape[1]\n",
    "        assert ((num_nan == n) | (num_nan <= (n-min_count))).all()\n",
    "\n",
    "        X = X.sum(axis=1, min_count=min_count)\n",
    "        X = X.where(X.isna(), X > 0)\n",
    "        X.name = name\n",
    "\n",
    "        return X.astype('boolean')"
   ]
  },
  {
   "cell_type": "markdown",
   "metadata": {},
   "source": [
    "## Load data"
   ]
  },
  {
   "cell_type": "code",
   "execution_count": 5,
   "metadata": {},
   "outputs": [],
   "source": [
    "data = pd.read_pickle('../data/ra_data.pkl')"
   ]
  },
  {
   "cell_type": "code",
   "execution_count": 5,
   "metadata": {},
   "outputs": [],
   "source": [
    "# Ignore IL-1 therapies.\n",
    "data.replace(['il-1 mono', 'il-1 combo'], 'other therapies', inplace=True)"
   ]
  },
  {
   "cell_type": "code",
   "execution_count": 6,
   "metadata": {},
   "outputs": [],
   "source": [
    "def rename_therapies(therapies):\n",
    "    therapy_mapper = {\n",
    "        'abatacept combo': 'Abatacept combo',\n",
    "        'abatacept mono': 'Abatacept mono',\n",
    "        'il-1 combo': 'IL-1Ri combo',\n",
    "        'il-1 mono': 'IL-1Ri mono',\n",
    "        'il-6 combo': 'IL-6Ri combo',\n",
    "        'il-6 mono': 'IL-6Ri mono',\n",
    "        'rituximab combo': 'Rituximab combo',\n",
    "        'rituximab mono': 'Rituximab mono',\n",
    "        'tnfi combo': 'TNFi combo',\n",
    "        'tnfi mono': 'TNFi mono',\n",
    "        'jaki combo': 'JAKi combo',\n",
    "        'jaki mono': 'JAKi mono',\n",
    "        'csdmard combo': 'csDMARD combo',\n",
    "        'csdmard mono': 'csDMARD mono',\n",
    "        'no dmard': 'No DMARD',\n",
    "        'other therapies': 'Other',\n",
    "    }\n",
    "\n",
    "    new_therapies = pd.Categorical(\n",
    "        [therapy_mapper[t] for t in therapies],\n",
    "        categories=therapy_mapper.values()\n",
    "    )\n",
    "    \n",
    "    return new_therapies.remove_unused_categories()\n",
    "\n",
    "data.therapy = rename_therapies(data.therapy)"
   ]
  },
  {
   "cell_type": "markdown",
   "metadata": {},
   "source": [
    "## Select features"
   ]
  },
  {
   "cell_type": "markdown",
   "metadata": {},
   "source": [
    "### Demographics"
   ]
  },
  {
   "cell_type": "code",
   "execution_count": 7,
   "metadata": {},
   "outputs": [],
   "source": [
    "demographics = [\n",
    "    'age',\n",
    "    'gender',\n",
    "    'race',\n",
    "    'final_education',\n",
    "    'work_status',\n",
    "]\n",
    "\n",
    "X_demographics = data[demographics]"
   ]
  },
  {
   "cell_type": "markdown",
   "metadata": {},
   "source": [
    "If possible, missing values are imputed by forward filling previously observed values."
   ]
  },
  {
   "cell_type": "code",
   "execution_count": 8,
   "metadata": {},
   "outputs": [],
   "source": [
    "if impute:\n",
    "    X_demographics = X_demographics.groupby(by=data.id).fillna(method='ffill')"
   ]
  },
  {
   "cell_type": "markdown",
   "metadata": {},
   "source": [
    "### Insurance"
   ]
  },
  {
   "cell_type": "code",
   "execution_count": 9,
   "metadata": {},
   "outputs": [],
   "source": [
    "insurance = [\n",
    "    'insurance_private',\n",
    "    'insurance_medicare',\n",
    "    'insurance_medicaid',\n",
    "    'insurance_none',\n",
    "]\n",
    "\n",
    "X_insurance = data[insurance]"
   ]
  },
  {
   "cell_type": "markdown",
   "metadata": {},
   "source": [
    "If possible, missing values are imputed by forward filling previously observed values."
   ]
  },
  {
   "cell_type": "code",
   "execution_count": 10,
   "metadata": {},
   "outputs": [],
   "source": [
    "if impute:\n",
    "    X_insurance = X_insurance.groupby(by=data.id).fillna(method='ffill')"
   ]
  },
  {
   "cell_type": "markdown",
   "metadata": {},
   "source": [
    "### Medical signs"
   ]
  },
  {
   "cell_type": "code",
   "execution_count": 11,
   "metadata": {},
   "outputs": [],
   "source": [
    "medical_signs = [\n",
    "    'bmi',\n",
    "    'seatedbp1',\n",
    "    'seatedbp2',\n",
    "]\n",
    "\n",
    "X_medical_signs = data[medical_signs]"
   ]
  },
  {
   "cell_type": "markdown",
   "metadata": {},
   "source": [
    "If possible, missing values are imputed by forward filling previously observed values."
   ]
  },
  {
   "cell_type": "code",
   "execution_count": 12,
   "metadata": {},
   "outputs": [],
   "source": [
    "if impute:\n",
    "    X_medical_signs = X_medical_signs.groupby(by=data.id).fillna(method='ffill')"
   ]
  },
  {
   "cell_type": "markdown",
   "metadata": {},
   "source": [
    "### Pregnancy"
   ]
  },
  {
   "cell_type": "code",
   "execution_count": 13,
   "metadata": {},
   "outputs": [],
   "source": [
    "pregnancy = [\n",
    "    'pregnant_current',\n",
    "]\n",
    "\n",
    "X_pregnancy = data[pregnancy]"
   ]
  },
  {
   "cell_type": "markdown",
   "metadata": {},
   "source": [
    "### RA assessment"
   ]
  },
  {
   "cell_type": "code",
   "execution_count": 14,
   "metadata": {},
   "outputs": [],
   "source": [
    "ra_assessment = [\n",
    "    'pt_pain',\n",
    "    'pt_fatigues',\n",
    "    'cdai',\n",
    "    'das',\n",
    "]\n",
    "\n",
    "X_ra_assessment = data[ra_assessment]"
   ]
  },
  {
   "cell_type": "markdown",
   "metadata": {},
   "source": [
    "If possible, missing values are imputed by forward filling previously observed values."
   ]
  },
  {
   "cell_type": "code",
   "execution_count": 15,
   "metadata": {},
   "outputs": [],
   "source": [
    "if impute:\n",
    "    X_ra_assessment = X_ra_assessment.groupby(by=data.id).fillna(method='ffill')"
   ]
  },
  {
   "cell_type": "markdown",
   "metadata": {},
   "source": [
    "### RA biomarkers"
   ]
  },
  {
   "cell_type": "code",
   "execution_count": 16,
   "metadata": {},
   "outputs": [],
   "source": [
    "to_replace = {'False': 'Negative', 'True': 'Positive'}\n",
    "ccpos = data.ccppos.astype('string').fillna('Not tested').replace(to_replace).astype('category')\n",
    "rfpos = data.rfpos.astype('string').fillna('Not tested').replace(to_replace).astype('category')\n",
    "\n",
    "mapper = {'ccppos': 'ccp', 'rfpos': 'rf'}\n",
    "X_ra_biomarkers = pd.concat([ccpos, rfpos], axis=1).rename(columns=mapper)"
   ]
  },
  {
   "cell_type": "markdown",
   "metadata": {},
   "source": [
    "### Infections"
   ]
  },
  {
   "cell_type": "markdown",
   "metadata": {},
   "source": [
    "Missing values are implicitly encoded as `False`."
   ]
  },
  {
   "cell_type": "code",
   "execution_count": 17,
   "metadata": {},
   "outputs": [],
   "source": [
    "infections = [\n",
    "    'hospinf',\n",
    "    'ivinf',\n",
    "]\n",
    "\n",
    "X_infections = summarize(\n",
    "    data[infections],\n",
    "    name='infections',\n",
    "    impute=impute,\n",
    "    min_count=len(infections)\n",
    ")"
   ]
  },
  {
   "cell_type": "markdown",
   "metadata": {},
   "source": [
    "### Comorbidities"
   ]
  },
  {
   "cell_type": "markdown",
   "metadata": {},
   "source": [
    "Missing values are implicitly encoded as `False`."
   ]
  },
  {
   "cell_type": "code",
   "execution_count": 18,
   "metadata": {},
   "outputs": [],
   "source": [
    "comor_metabolic = [\n",
    "    'comor_hld',\n",
    "    'comor_diabetes',\n",
    "]\n",
    "\n",
    "X_comor_metabolic = summarize(\n",
    "    data[comor_metabolic],\n",
    "    name='comor_metabolic',\n",
    "    impute=impute,\n",
    "    min_count=len(comor_metabolic)\n",
    ")"
   ]
  },
  {
   "cell_type": "code",
   "execution_count": 19,
   "metadata": {},
   "outputs": [],
   "source": [
    "comor_cardiovascular = [\n",
    "    'comor_htn_hosp',\n",
    "    'comor_htn',\n",
    "    'comor_revasc',\n",
    "    'comor_ven_arrhythm',\n",
    "    'comor_mi',\n",
    "    'comor_acs',\n",
    "    'comor_unstab_ang',\n",
    "    'comor_cor_art_dis',\n",
    "    'comor_chf_hosp',\n",
    "    'comor_chf_nohosp',\n",
    "    'comor_stroke',\n",
    "    'comor_tia',\n",
    "    'comor_card_arrest',\n",
    "    'comor_oth_clot',\n",
    "    'comor_pulm_emb',\n",
    "    'comor_pef_art_dis',\n",
    "    'comor_pat_event',\n",
    "    'comor_urg_par',\n",
    "    'comor_pi',\n",
    "    'comor_carotid',\n",
    "    'comor_other_cv',\n",
    "]\n",
    "\n",
    "X_comor_cvd = summarize(\n",
    "    data[comor_cardiovascular],\n",
    "    name='comor_cvd',\n",
    "    impute=impute,\n",
    "    min_count=12\n",
    ")"
   ]
  },
  {
   "cell_type": "code",
   "execution_count": 20,
   "metadata": {},
   "outputs": [],
   "source": [
    "comor_respiratory = [\n",
    "    'comor_copd',\n",
    "    'comor_asthma',\n",
    "    'comor_fib',\n",
    "]\n",
    "\n",
    "X_comor_respiratory = summarize(\n",
    "    data[comor_respiratory],\n",
    "    name='comor_respiratory',\n",
    "    impute=impute,\n",
    "    min_count=len(comor_respiratory)\n",
    ")"
   ]
  },
  {
   "cell_type": "code",
   "execution_count": 21,
   "metadata": {},
   "outputs": [],
   "source": [
    "comor_dil = [\n",
    "    'comor_drug_ind_sle',\n",
    "]\n",
    "\n",
    "X_comor_dil = summarize(\n",
    "    data[comor_dil],\n",
    "    name='comor_dil',\n",
    "    impute=impute,\n",
    "    min_count=len(comor_dil)\n",
    ")"
   ]
  },
  {
   "cell_type": "code",
   "execution_count": 22,
   "metadata": {},
   "outputs": [],
   "source": [
    "comor_cancer = [\n",
    "    'comor_bc',\n",
    "    'comor_lc',\n",
    "    'comor_lymphoma',\n",
    "    'comor_skin_cancer_squa',\n",
    "    'comor_skin_cancer_mel',\n",
    "    'comor_oth_cancer',\n",
    "]\n",
    "\n",
    "X_comor_cancer = summarize(\n",
    "    data[comor_cancer],\n",
    "    name='comor_cancer',\n",
    "    impute=impute,\n",
    "    min_count=len(comor_cancer)\n",
    ")"
   ]
  },
  {
   "cell_type": "code",
   "execution_count": 23,
   "metadata": {},
   "outputs": [],
   "source": [
    "comor_gi_liver = [\n",
    "    'comor_ulcer',\n",
    "    'comor_bowel_perf',\n",
    "    'comor_hepatic_wbiop',\n",
    "    'comor_hepatic_nobiop',\n",
    "]\n",
    "\n",
    "X_comor_gi_liver = summarize(\n",
    "    data[comor_gi_liver],\n",
    "    name='comor_gi_liver',\n",
    "    impute=impute,\n",
    "    min_count=len(comor_gi_liver)\n",
    ")"
   ]
  },
  {
   "cell_type": "code",
   "execution_count": 24,
   "metadata": {},
   "outputs": [],
   "source": [
    "comor_musculoskeletal = [\n",
    "    'sec_sjog',  # 0: No, 1: Yes, 2: New\n",
    "    'jt_deform',  # 0: No, 1: Yes, 2: New\n",
    "]\n",
    "\n",
    "X_comor_musculoskeletal = summarize(\n",
    "    data[comor_musculoskeletal],\n",
    "    name='comor_musculoskeletal',\n",
    "    impute=impute,\n",
    "    min_count=1\n",
    ")"
   ]
  },
  {
   "cell_type": "code",
   "execution_count": 25,
   "metadata": {},
   "outputs": [],
   "source": [
    "comor_other = [\n",
    "    'comor_psoriasis',\n",
    "    'comor_depression',\n",
    "    'comor_fm',\n",
    "    'comor_oth_neuro',\n",
    "    'comor_hemorg_hosp',\n",
    "    'comor_hemorg_nohosp',\n",
    "    'comor_oth_cond',\n",
    "]\n",
    "\n",
    "X_comor_other = summarize(\n",
    "    data[comor_other],\n",
    "    name='comor_other',\n",
    "    impute=impute,\n",
    "    min_count=len(comor_other)\n",
    ")"
   ]
  },
  {
   "cell_type": "code",
   "execution_count": 26,
   "metadata": {},
   "outputs": [],
   "source": [
    "X_comor = pd.concat(\n",
    "    [\n",
    "        X_comor_metabolic,\n",
    "        X_comor_cvd,\n",
    "        X_comor_respiratory,\n",
    "        X_comor_dil,\n",
    "        X_comor_cancer,\n",
    "        X_comor_gi_liver,\n",
    "        X_comor_musculoskeletal,\n",
    "        X_comor_other\n",
    "    ],\n",
    "    axis=1,\n",
    ")"
   ]
  },
  {
   "cell_type": "markdown",
   "metadata": {},
   "source": [
    "### Targeted adverse events"
   ]
  },
  {
   "cell_type": "markdown",
   "metadata": {},
   "source": [
    "Missing values are implicitly encoded as `False`."
   ]
  },
  {
   "cell_type": "code",
   "execution_count": 27,
   "metadata": {},
   "outputs": [],
   "source": [
    "targeted_adverse_events = [\n",
    "    'comor_htn_hosp',  # hypertension (serious)\n",
    "    'comor_revasc',  # CABG or angioplasty\n",
    "    'comor_ven_arrhythm',  # ventricular arrhythmia\n",
    "    'comor_mi',  # myocardial infarction\n",
    "    'comor_acs',  # acute coronary syndrome\n",
    "    'comor_unstab_ang',  # unstable angina\n",
    "    'comor_chf_hosp',  # congestive heart failure (serious)\n",
    "    'comor_stroke',  # stroke\n",
    "    'comor_tia',  # transient ischemic attack\n",
    "    # other cardiac condition (serious)\n",
    "    'comor_oth_clot',  # deep vein thrombosis\n",
    "    'comor_pulm_emb',  # pulmonary embolism\n",
    "    'comor_pat_event',  # peripheral arterial thromboembolic event\n",
    "    'comor_urg_par',  # urgent peripheral arterial revascularization\n",
    "    'comor_pi',  # peripheral ischemia or gangrene\n",
    "    # other vascular condition (serious)\n",
    "    # COPD exacerbation (serious)\n",
    "    # drug hypersensitivity reaction (severe)\n",
    "    # drug hypersensitivity reaction (anaphylaxis)\n",
    "    'comor_bc',  # breast cancer\n",
    "    'comor_lc',  # lung cancer\n",
    "    # colon cancer\n",
    "    # uterine cancer\n",
    "    # cervical cancer\n",
    "    # prostate cancer\n",
    "    # leukemia\n",
    "    'comor_lymphoma',  # lymphoma\n",
    "    # multiple myeloma\n",
    "    'comor_skin_cancer_squa',  # non-melanoma skin cancer (basal or squamous cell)\n",
    "    'comor_skin_cancer_mel',  # melanoma skin cancer\n",
    "    'comor_oth_cancer',  # other malignancy\n",
    "    'comor_bowel_perf',  # GI perforation\n",
    "    'comor_hepatic_wbiop',  # hepatic event requiring biopsy (serious)\n",
    "    # drug-induced liver injury (serious)\n",
    "    # fracture (serious)\n",
    "    # suicidal thoughts\n",
    "    # self-injury\n",
    "    # suicide attempt\n",
    "    # demyelinating disease\n",
    "    # other neurological disorder (serious)\n",
    "    # chronic kidney disease (moderate/severe)\n",
    "    # acute kidney disease (moderate/severe)\n",
    "    'comor_hemorg_hosp',  # hemorrhage (serious)\n",
    "]\n",
    "\n",
    "X_taes = summarize(\n",
    "    data[targeted_adverse_events],\n",
    "    name='taes',\n",
    "    impute=impute,\n",
    "    min_count=17\n",
    ")"
   ]
  },
  {
   "cell_type": "markdown",
   "metadata": {},
   "source": [
    "### Patient-reported medical problems"
   ]
  },
  {
   "cell_type": "code",
   "execution_count": 28,
   "metadata": {},
   "outputs": [],
   "source": [
    "medical_problems = [\n",
    "    #'med_probs_anxiety',\n",
    "    #'med_probs_depression',\n",
    "]\n",
    "\n",
    "X_medical_problems = data[medical_problems]"
   ]
  },
  {
   "cell_type": "markdown",
   "metadata": {},
   "source": [
    "### Other features"
   ]
  },
  {
   "cell_type": "code",
   "execution_count": 29,
   "metadata": {},
   "outputs": [],
   "source": [
    "other_features = [\n",
    "    'duration_ra',\n",
    "    'smoker',\n",
    "    'drinker',\n",
    "]\n",
    "\n",
    "X_other = data[other_features]\n",
    "\n",
    "X_other.insert(0, 'year', data.visitdate.dt.year)"
   ]
  },
  {
   "cell_type": "markdown",
   "metadata": {},
   "source": [
    "If possible, missing values are imputed by forward filling previously observed values."
   ]
  },
  {
   "cell_type": "code",
   "execution_count": 30,
   "metadata": {},
   "outputs": [],
   "source": [
    "if impute:\n",
    "    X_other = X_other.groupby(by=data.id).fillna(method='ffill')"
   ]
  },
  {
   "cell_type": "markdown",
   "metadata": {},
   "source": [
    "## Save data"
   ]
  },
  {
   "cell_type": "code",
   "execution_count": 32,
   "metadata": {},
   "outputs": [],
   "source": [
    "X = pd.concat(\n",
    "    [\n",
    "        data.visitdate,\n",
    "        X_demographics,\n",
    "        X_other,\n",
    "        X_insurance,\n",
    "        X_medical_signs,\n",
    "        X_pregnancy,\n",
    "        X_ra_assessment,\n",
    "        X_ra_biomarkers,\n",
    "        X_infections,\n",
    "        X_comor,\n",
    "        X_taes,\n",
    "        X_medical_problems,\n",
    "    ],\n",
    "    axis=1\n",
    ")"
   ]
  },
  {
   "cell_type": "code",
   "execution_count": 34,
   "metadata": {},
   "outputs": [],
   "source": [
    "Xg = pd.concat([X, data.id], axis=1)"
   ]
  },
  {
   "cell_type": "code",
   "execution_count": 35,
   "metadata": {},
   "outputs": [],
   "source": [
    "Xgy = pd.concat([Xg, data.therapy], axis=1)"
   ]
  },
  {
   "cell_type": "code",
   "execution_count": 36,
   "metadata": {},
   "outputs": [],
   "source": [
    "#patients_with_other = Xgy.loc[Xgy.therapy=='Other', 'id'].unique()\n",
    "#Xgy = Xgy.loc[~Xgy.id.isin(patients_with_other)]\n",
    "#Xgy.therapy = Xgy.therapy.cat.remove_unused_categories()"
   ]
  },
  {
   "cell_type": "code",
   "execution_count": 37,
   "metadata": {},
   "outputs": [],
   "source": [
    "Xgy.to_pickle('../data/ra_Xgy_0403.pkl')"
   ]
  },
  {
   "cell_type": "code",
   "execution_count": 38,
   "metadata": {},
   "outputs": [],
   "source": [
    "#Xgy.select_dtypes(include=['bool'])"
   ]
  }
 ],
 "metadata": {
  "kernelspec": {
   "display_name": "ddt_env",
   "language": "python",
   "name": "python3"
  },
  "language_info": {
   "codemirror_mode": {
    "name": "ipython",
    "version": 3
   },
   "file_extension": ".py",
   "mimetype": "text/x-python",
   "name": "python",
   "nbconvert_exporter": "python",
   "pygments_lexer": "ipython3",
   "version": "3.10.8"
  },
  "orig_nbformat": 4
 },
 "nbformat": 4,
 "nbformat_minor": 2
}
