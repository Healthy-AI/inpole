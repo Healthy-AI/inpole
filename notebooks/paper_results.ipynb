{
 "cells": [
  {
   "cell_type": "markdown",
   "id": "5f8ab0fc-371b-4d15-8049-ba3a3882f6b7",
   "metadata": {},
   "source": [
    "# Paper results"
   ]
  },
  {
   "cell_type": "code",
   "execution_count": 1,
   "id": "396e49f2-2ca3-43cf-ab92-2eddab5afc77",
   "metadata": {},
   "outputs": [],
   "source": [
    "import warnings\n",
    "warnings.simplefilter('ignore')\n",
    "\n",
    "import os\n",
    "import sys\n",
    "from functools import partial\n",
    "\n",
    "import joblib\n",
    "import pandas as pd\n",
    "import numpy as np\n",
    "import matplotlib.pyplot as plt\n",
    "import seaborn as sns\n",
    "from sklearn.metrics import confusion_matrix\n",
    "\n",
    "from inpole.visualization import *\n",
    "from inpole.data import RAData"
   ]
  },
  {
   "cell_type": "code",
   "execution_count": 2,
   "id": "94cc6a13-de0a-4a87-87e6-f4988ae50854",
   "metadata": {},
   "outputs": [],
   "source": [
    "# Default RC parameters for figures with size (6, 4).\n",
    "RC_DEFAULT = {\n",
    "    'text.usetex': True,\n",
    "    'font.family': 'serif',\n",
    "    'font.serif': ['Computer Modern Roman'],\n",
    "    'figure.titlesize': 18,\n",
    "    'font.size': 18,\n",
    "    'axes.titlesize': 18,\n",
    "    'axes.labelsize': 18,\n",
    "    'xtick.labelsize': 18,\n",
    "    'ytick.labelsize': 18,\n",
    "    'legend.title_fontsize': 16,\n",
    "    'legend.fontsize': 16,\n",
    "\n",
    "}\n",
    "\n",
    "# Default RC parameters for figures with size (4.5, 3).\n",
    "RC_SMALL = {\n",
    "    'text.usetex': True,\n",
    "    'font.family': 'serif',\n",
    "    'font.serif': ['Computer Modern Roman'],\n",
    "    'figure.titlesize': 13.5,\n",
    "    'font.size': 13.5,\n",
    "    'axes.titlesize': 13.5,\n",
    "    'axes.labelsize': 13.5,\n",
    "    'xtick.labelsize': 13.5,\n",
    "    'ytick.labelsize': 13.5,\n",
    "    'legend.title_fontsize': 12,\n",
    "    'legend.fontsize': 12,\n",
    "}"
   ]
  },
  {
   "cell_type": "code",
   "execution_count": 3,
   "id": "0737f854-fcda-4a66-8c56-3e4711bbf053",
   "metadata": {},
   "outputs": [],
   "source": [
    "plt.rcParams.update(RC_DEFAULT)"
   ]
  },
  {
   "cell_type": "code",
   "execution_count": 4,
   "id": "6d8849a5-4846-4675-bc41-92125f9ba75d",
   "metadata": {},
   "outputs": [],
   "source": [
    "ESTIMATOR_MAPPER = {\n",
    "    'riskslim': 'RS',\n",
    "    'lr': 'LR',\n",
    "    'dt': 'DT',\n",
    "    'pronet': 'PN',\n",
    "    'mlp': 'MLP',\n",
    "    'prosenet': 'PSN',\n",
    "    'rdt': 'RDT',\n",
    "    'rnn': 'RNN',\n",
    "    'lstm': 'LSTM',\n",
    "}"
   ]
  },
  {
   "cell_type": "code",
   "execution_count": 5,
   "id": "08a02a81-fb8b-4096-b367-45ecb59d84ae",
   "metadata": {},
   "outputs": [],
   "source": [
    "SEQUENCE_MODELS = ['PSN', 'RDT', 'LSTM']"
   ]
  },
  {
   "cell_type": "code",
   "execution_count": 6,
   "id": "415f3f7c-5a9b-4e8c-be2b-999439d67e81",
   "metadata": {},
   "outputs": [],
   "source": [
    "STATES = [\n",
    "    '$X_t$', '$A_{t-1}$', '$H_{(0)}$', r'$\\bar{H}_t$', r'$H_{(0)}, \\bar{H}_t$', \n",
    "    r'$H_{(1)}, \\bar{H}_t$', r'$H_{(2)}, \\bar{H}_t$', '$H_t$'\n",
    "]\n",
    "colors = sns.color_palette(n_colors=8)\n",
    "COLOR_MAPPER = dict(zip(STATES, colors))"
   ]
  },
  {
   "cell_type": "markdown",
   "id": "479e2806-41e9-4d5b-a405-0a3d9bf0339f",
   "metadata": {},
   "source": [
    "## Overall performance"
   ]
  },
  {
   "cell_type": "code",
   "execution_count": 7,
   "id": "a9102c42-606e-4387-adbf-db345fe7d534",
   "metadata": {},
   "outputs": [],
   "source": [
    "adni_paths = [\n",
    "    ('$X_t$',                 '/mimer/NOBACKUP/groups/inpole/results/adni/20241015_0840_sweep'),\n",
    "    ('$A_{t-1}$',             '/mimer/NOBACKUP/groups/inpole/results/adni/20241015_0841_sweep'),\n",
    "    ('$H_{(0)}$',             '/mimer/NOBACKUP/groups/inpole/results/adni/20241015_0842_sweep'),\n",
    "    (r'$\\bar{H}_t$',          '/mimer/NOBACKUP/groups/inpole/results/adni/20241015_0843_sweep'),  # max\n",
    "    (r'$H_{(0)}, \\bar{H}_t$', '/mimer/NOBACKUP/groups/inpole/results/adni/20241015_0844_sweep'),  # max\n",
    "    (r'$H_{(1)}, \\bar{H}_t$', '/mimer/NOBACKUP/groups/inpole/results/adni/20241015_0845_sweep'),  # max\n",
    "    (r'$H_{(2)}, \\bar{H}_t$', '/mimer/NOBACKUP/groups/inpole/results/adni/20241015_0846_sweep'),  # max\n",
    "    (r'$\\bar{H}_t$',          '/mimer/NOBACKUP/groups/inpole/results/adni/20241015_0847_sweep'),  # sum\n",
    "    (r'$H_{(0)}, \\bar{H}_t$', '/mimer/NOBACKUP/groups/inpole/results/adni/20241015_0848_sweep'),  # sum\n",
    "    (r'$H_{(1)}, \\bar{H}_t$', '/mimer/NOBACKUP/groups/inpole/results/adni/20241015_0849_sweep'),  # sum\n",
    "    (r'$H_{(2)}, \\bar{H}_t$', '/mimer/NOBACKUP/groups/inpole/results/adni/20241015_0850_sweep'),  # sum\n",
    "    (r'$\\bar{H}_t$',          '/mimer/NOBACKUP/groups/inpole/results/adni/20241015_0851_sweep'),  # mean\n",
    "    (r'$H_{(0)}, \\bar{H}_t$', '/mimer/NOBACKUP/groups/inpole/results/adni/20241015_0852_sweep'),  # mean\n",
    "    (r'$H_{(1)}, \\bar{H}_t$', '/mimer/NOBACKUP/groups/inpole/results/adni/20241015_0853_sweep'),  # mean\n",
    "    (r'$H_{(2)}, \\bar{H}_t$', '/mimer/NOBACKUP/groups/inpole/results/adni/20241015_0854_sweep'),  # mean\n",
    "    ('$H_t$',                 '/mimer/NOBACKUP/groups/inpole/results/adni/20241015_0855_sweep'),\n",
    "]"
   ]
  },
  {
   "cell_type": "code",
   "execution_count": 8,
   "id": "d7586a91-2de7-4451-b657-7d50ec94dd74",
   "metadata": {},
   "outputs": [],
   "source": [
    "ra_paths = [\n",
    "    ('$X_t$',                 '/mimer/NOBACKUP/groups/inpole/results/ra/20241015_0912_sweep'),\n",
    "    ('$A_{t-1}$',             '/mimer/NOBACKUP/groups/inpole/results/ra/20241015_0913_sweep'),\n",
    "    ('$H_{(0)}$',             '/mimer/NOBACKUP/groups/inpole/results/ra/20241015_0914_sweep'),\n",
    "    (r'$\\bar{H}_t$',          '/mimer/NOBACKUP/groups/inpole/results/ra/20241015_0915_sweep'),  # max\n",
    "    (r'$H_{(0)}, \\bar{H}_t$', '/mimer/NOBACKUP/groups/inpole/results/ra/20241015_0916_sweep'),  # max\n",
    "    (r'$H_{(1)}, \\bar{H}_t$', '/mimer/NOBACKUP/groups/inpole/results/ra/20241015_0917_sweep'),  # max\n",
    "    (r'$H_{(2)}, \\bar{H}_t$', '/mimer/NOBACKUP/groups/inpole/results/ra/20241015_0918_sweep'),  # max\n",
    "    (r'$\\bar{H}_t$',          '/mimer/NOBACKUP/groups/inpole/results/ra/20241015_0919_sweep'),  # sum\n",
    "    (r'$H_{(0)}, \\bar{H}_t$', '/mimer/NOBACKUP/groups/inpole/results/ra/20241015_0920_sweep'),  # sum\n",
    "    (r'$H_{(1)}, \\bar{H}_t$', '/mimer/NOBACKUP/groups/inpole/results/ra/20241015_0921_sweep'),  # sum\n",
    "    (r'$H_{(2)}, \\bar{H}_t$', '/mimer/NOBACKUP/groups/inpole/results/ra/20241015_0922_sweep'),  # sum\n",
    "    (r'$\\bar{H}_t$',          '/mimer/NOBACKUP/groups/inpole/results/ra/20241015_0923_sweep'),  # mean\n",
    "    (r'$H_{(0)}, \\bar{H}_t$', '/mimer/NOBACKUP/groups/inpole/results/ra/20241015_0924_sweep'),  # mean\n",
    "    (r'$H_{(1)}, \\bar{H}_t$', '/mimer/NOBACKUP/groups/inpole/results/ra/20241015_0925_sweep'),  # mean\n",
    "    (r'$H_{(2)}, \\bar{H}_t$', '/mimer/NOBACKUP/groups/inpole/results/ra/20241015_0926_sweep'),  # mean\n",
    "    ('$H_t$',                 '/mimer/NOBACKUP/groups/inpole/results/ra/20241015_0927_sweep'),\n",
    "]"
   ]
  },
  {
   "cell_type": "code",
   "execution_count": 9,
   "id": "a73e7b8c-f087-468d-989d-c66ad38d77d3",
   "metadata": {},
   "outputs": [],
   "source": [
    "sepsis_paths = [\n",
    "    ('$X_t$',                 '/mimer/NOBACKUP/groups/inpole/results/sepsis/20241015_1351_sweep'),\n",
    "    ('$A_{t-1}$',             '/mimer/NOBACKUP/groups/inpole/results/sepsis/20241015_1352_sweep'),\n",
    "    ('$H_{(0)}$',             '/mimer/NOBACKUP/groups/inpole/results/sepsis/20241015_1353_sweep'),\n",
    "    (r'$\\bar{H}_t$',          '/mimer/NOBACKUP/groups/inpole/results/sepsis/20241015_1354_sweep'),  # max\n",
    "    (r'$H_{(0)}, \\bar{H}_t$', '/mimer/NOBACKUP/groups/inpole/results/sepsis/20241015_1355_sweep'),  # max\n",
    "    (r'$H_{(1)}, \\bar{H}_t$', '/mimer/NOBACKUP/groups/inpole/results/sepsis/20241015_1356_sweep'),  # max\n",
    "    (r'$H_{(2)}, \\bar{H}_t$', '/mimer/NOBACKUP/groups/inpole/results/sepsis/20241015_1357_sweep'),  # max\n",
    "    (r'$\\bar{H}_t$',          '/mimer/NOBACKUP/groups/inpole/results/sepsis/20241015_1358_sweep'),  # sum\n",
    "    (r'$H_{(0)}, \\bar{H}_t$', '/mimer/NOBACKUP/groups/inpole/results/sepsis/20241015_1359_sweep'),  # sum\n",
    "    (r'$H_{(1)}, \\bar{H}_t$', '/mimer/NOBACKUP/groups/inpole/results/sepsis/20241015_1400_sweep'),  # sum\n",
    "    (r'$H_{(2)}, \\bar{H}_t$', '/mimer/NOBACKUP/groups/inpole/results/sepsis/20241015_1401_sweep'),  # sum\n",
    "    (r'$\\bar{H}_t$',          '/mimer/NOBACKUP/groups/inpole/results/sepsis/20241015_1402_sweep'),  # mean\n",
    "    (r'$H_{(0)}, \\bar{H}_t$', '/mimer/NOBACKUP/groups/inpole/results/sepsis/20241015_1403_sweep'),  # mean\n",
    "    (r'$H_{(1)}, \\bar{H}_t$', '/mimer/NOBACKUP/groups/inpole/results/sepsis/20241015_1404_sweep'),  # mean\n",
    "    (r'$H_{(2)}, \\bar{H}_t$', '/mimer/NOBACKUP/groups/inpole/results/sepsis/20241015_1405_sweep'),  # mean\n",
    "    ('$H_t$',                 '/mimer/NOBACKUP/groups/inpole/results/sepsis/20241015_1406_sweep'),\n",
    "]"
   ]
  },
  {
   "cell_type": "code",
   "execution_count": 10,
   "id": "c888cd8f-f31d-4124-9311-3fe04fc16bb8",
   "metadata": {},
   "outputs": [],
   "source": [
    "copd_paths = [\n",
    "    ('$X_t$',                 '/mimer/NOBACKUP/groups/inpole/results/copd/20241112_1021_sweep'),\n",
    "    ('$A_{t-1}$',             '/mimer/NOBACKUP/groups/inpole/results/copd/20241112_1022_sweep'),\n",
    "    ('$H_{(0)}$',             '/mimer/NOBACKUP/groups/inpole/results/copd/20241112_1023_sweep'),\n",
    "    (r'$\\bar{H}_t$',          '/mimer/NOBACKUP/groups/inpole/results/copd/20241112_1024_sweep'),  # max\n",
    "    (r'$H_{(0)}, \\bar{H}_t$', '/mimer/NOBACKUP/groups/inpole/results/copd/20241112_1025_sweep'),  # max\n",
    "    (r'$H_{(1)}, \\bar{H}_t$', '/mimer/NOBACKUP/groups/inpole/results/copd/20241112_1026_sweep'),  # max\n",
    "    (r'$H_{(2)}, \\bar{H}_t$', '/mimer/NOBACKUP/groups/inpole/results/copd/20241112_1027_sweep'),  # max\n",
    "    (r'$\\bar{H}_t$',          '/mimer/NOBACKUP/groups/inpole/results/copd/20241112_1028_sweep'),  # sum\n",
    "    (r'$H_{(0)}, \\bar{H}_t$', '/mimer/NOBACKUP/groups/inpole/results/copd/20241112_1029_sweep'),  # sum\n",
    "    (r'$H_{(1)}, \\bar{H}_t$', '/mimer/NOBACKUP/groups/inpole/results/copd/20241112_1030_sweep'),  # sum\n",
    "    (r'$H_{(2)}, \\bar{H}_t$', '/mimer/NOBACKUP/groups/inpole/results/copd/20241112_1031_sweep'),  # sum\n",
    "    (r'$\\bar{H}_t$',          '/mimer/NOBACKUP/groups/inpole/results/copd/20241112_1032_sweep'),  # mean\n",
    "    (r'$H_{(0)}, \\bar{H}_t$', '/mimer/NOBACKUP/groups/inpole/results/copd/20241112_1033_sweep'),  # mean\n",
    "    (r'$H_{(1)}, \\bar{H}_t$', '/mimer/NOBACKUP/groups/inpole/results/copd/20241112_1034_sweep'),  # mean\n",
    "    (r'$H_{(2)}, \\bar{H}_t$', '/mimer/NOBACKUP/groups/inpole/results/copd/20241112_1035_sweep'),  # mean\n",
    "    ('$H_t$',                 '/mimer/NOBACKUP/groups/inpole/results/copd/20241112_1036_sweep'),\n",
    "]"
   ]
  },
  {
   "cell_type": "code",
   "execution_count": 11,
   "id": "bbe6cf8a-785f-4a61-b4ba-253e617d0b9c",
   "metadata": {},
   "outputs": [],
   "source": [
    "all_experiment_paths = {\n",
    "    'ADNI': adni_paths,\n",
    "    'RA': ra_paths,\n",
    "    'Sepsis': sepsis_paths,\n",
    "    'COPD': copd_paths\n",
    "}\n",
    "\n",
    "all_scores = get_all_scores(all_experiment_paths)"
   ]
  },
  {
   "cell_type": "code",
   "execution_count": 12,
   "id": "e3d1480c-7879-4643-a5f6-2d25b6934ee1",
   "metadata": {},
   "outputs": [],
   "source": [
    "all_scores['AUC'] = all_scores['auc'].combine_first(all_scores['auc_macro'])"
   ]
  },
  {
   "cell_type": "code",
   "execution_count": 13,
   "id": "3b4dee35-f9bc-43cf-85fc-352dd2edd9df",
   "metadata": {},
   "outputs": [],
   "source": [
    "scoring_kwargs = dict(\n",
    "    exclude_models=['rdt_aligned', 'rdt_pruned', 'rnn'],\n",
    "    experiment_order=all_experiment_paths,\n",
    "    model_order=ESTIMATOR_MAPPER,\n",
    "    index=dict(ra_paths),\n",
    ")"
   ]
  },
  {
   "cell_type": "code",
   "execution_count": 14,
   "id": "5fb3a39e-6592-40c0-9a7f-e7fdc610427d",
   "metadata": {},
   "outputs": [],
   "source": [
    "table_auc = get_scoring_table(all_scores, metric='AUC', include_cis=False, **scoring_kwargs)"
   ]
  },
  {
   "cell_type": "code",
   "execution_count": 15,
   "id": "d3c1354e-da96-4115-b65d-60c041378c98",
   "metadata": {},
   "outputs": [],
   "source": [
    "table_auc_cis = get_scoring_table(all_scores, metric='AUC', include_cis=True, **scoring_kwargs)"
   ]
  },
  {
   "cell_type": "code",
   "execution_count": 16,
   "id": "4dea458d-ccb0-4932-8505-5cc661f3fc61",
   "metadata": {},
   "outputs": [],
   "source": [
    "table_ece = get_scoring_table(all_scores, metric='ece', include_cis=False, **scoring_kwargs)"
   ]
  },
  {
   "cell_type": "code",
   "execution_count": 17,
   "id": "0310a111-ae3e-4337-bdd0-587f0df0c3e7",
   "metadata": {},
   "outputs": [],
   "source": [
    "table_sce = get_scoring_table(all_scores, metric='sce', include_cis=False, **scoring_kwargs)"
   ]
  },
  {
   "cell_type": "markdown",
   "id": "1d593881-6cb7-45c5-90d9-f7fd5a1a423d",
   "metadata": {},
   "source": [
    "### AUC "
   ]
  },
  {
   "cell_type": "code",
   "execution_count": 18,
   "id": "8fd5d465-84e9-4bbf-9ea5-01ccfb40e015",
   "metadata": {},
   "outputs": [
    {
     "name": "stdout",
     "output_type": "stream",
     "text": [
      "----- Reduction: sum -----\n",
      "\n",
      "\\begin{table}[t]\n",
      "\\begin{tabular}{llllllllllllll}\n",
      "\\toprule\n",
      "{} & \\multicolumn{4}{r}{ADNI} & \\multicolumn{3}{r}{RA} & \\multicolumn{3}{r}{Sepsis} & \\multicolumn{3}{r}{COPD} \\\\\n",
      "{estimator} & {RS} & {LR} & {DT} & {MLP} & {LR} & {DT} & {MLP} & {LR} & {DT} & {MLP} & {LR} & {DT} & {MLP} \\\\\n",
      "{state} & {} & {} & {} & {} & {} & {} & {} & {} & {} & {} & {} & {} & {} \\\\\n",
      "\\midrule\n",
      "$X_t$ & 54.2 & 56.2 & 53.9 & 55.6 & 61.7 & 58.8 & 61.1 & 82.1 & 78.2 & 84.1 & 77.9 & 74.7 & 78.7 \\\\\n",
      "$A_{t-1}$ & 52.0 & 53.9 & 53.8 & 53.7 & 94.7 & 94.7 & 94.7 & 88.0 & 90.6 & 91.1 & 92.9 & 95.0 & 94.9 \\\\\n",
      "$H_{(0)}$ & 53.4 & 56.8 & 54.3 & 56.8 & 95.6 & 95.7 & 96.1 & 91.3 & 92.1 & 94.7 & 94.0 & 96.0 & 95.5 \\\\\n",
      "$\\bar{H}_t$ & 63.0 & 64.4 & 64.9 & 64.1 & 90.5 & 92.0 & 94.0 & 84.6 & 85.2 & 89.1 & 91.1 & 89.3 & 93.6 \\\\\n",
      "$H_{(0)}, \\bar{H}_t$ & 63.7 & 65.3 & 65.0 & 65.8 & 96.1 & 96.5 & 96.9 & 91.9 & 92.3 & 95.3 & 94.7 & 96.7 & 96.3 \\\\\n",
      "$H_{(1)}, \\bar{H}_t$ & 63.4 & 65.6 & 65.4 & 66.0 & 96.0 & 96.4 & 96.9 & 92.2 & 92.5 & 95.5 & 94.7 & 96.8 & 96.4 \\\\\n",
      "$H_{(2)}, \\bar{H}_t$ & 62.9 & 65.4 & 65.3 & 66.8 & 96.0 & 96.4 & 96.7 & 92.3 & 92.6 & 95.5 & 94.7 & 96.8 & 96.3 \\\\\n",
      "\\bottomrule\n",
      "\\end{tabular}\n",
      "\\end{table}\n",
      "\n",
      "\\begin{table}[t]\n",
      "\\begin{tabular}{lllllllllllll}\n",
      "\\toprule\n",
      "{} & \\multicolumn{3}{r}{ADNI} & \\multicolumn{3}{r}{RA} & \\multicolumn{3}{r}{Sepsis} & \\multicolumn{3}{r}{COPD} \\\\\n",
      "{estimator} & {PSN} & {RDT} & {LSTM} & {PSN} & {RDT} & {LSTM} & {PSN} & {RDT} & {LSTM} & {PSN} & {RDT} & {LSTM} \\\\\n",
      "{state} & {} & {} & {} & {} & {} & {} & {} & {} & {} & {} & {} & {} \\\\\n",
      "\\midrule\n",
      "$H_t$ & 66.7 & 62.8 & 68.0 & 96.2 & 90.0 & 96.8 & 94.9 & 77.0 & 95.7 & 96.2 & 80.1 & 96.5 \\\\\n",
      "\\bottomrule\n",
      "\\end{tabular}\n",
      "\\end{table}\n",
      "\n",
      "----- Reduction: mean -----\n",
      "\n",
      "\\begin{table}[t]\n",
      "\\begin{tabular}{llllllllllllll}\n",
      "\\toprule\n",
      "{} & \\multicolumn{4}{r}{ADNI} & \\multicolumn{3}{r}{RA} & \\multicolumn{3}{r}{Sepsis} & \\multicolumn{3}{r}{COPD} \\\\\n",
      "{estimator} & {RS} & {LR} & {DT} & {MLP} & {LR} & {DT} & {MLP} & {LR} & {DT} & {MLP} & {LR} & {DT} & {MLP} \\\\\n",
      "{state} & {} & {} & {} & {} & {} & {} & {} & {} & {} & {} & {} & {} & {} \\\\\n",
      "\\midrule\n",
      "$X_t$ & 54.2 & 56.2 & 53.9 & 55.6 & 61.7 & 58.8 & 61.1 & 82.1 & 78.2 & 84.1 & 77.9 & 74.7 & 78.7 \\\\\n",
      "$A_{t-1}$ & 52.0 & 53.9 & 53.8 & 53.7 & 94.7 & 94.7 & 94.7 & 88.0 & 90.6 & 91.1 & 92.9 & 95.0 & 94.9 \\\\\n",
      "$H_{(0)}$ & 53.4 & 56.8 & 54.3 & 56.8 & 95.6 & 95.7 & 96.1 & 91.3 & 92.1 & 94.7 & 94.0 & 96.0 & 95.5 \\\\\n",
      "$\\bar{H}_t$ & 54.5 & 56.2 & 57.9 & 56.5 & 91.2 & 91.2 & 92.7 & 86.5 & 84.2 & 89.3 & 91.1 & 93.2 & 93.2 \\\\\n",
      "$H_{(0)}, \\bar{H}_t$ & 53.9 & 56.5 & 58.2 & 56.9 & 95.7 & 96.0 & 96.3 & 91.9 & 92.2 & 95.3 & 94.2 & 96.3 & 96.1 \\\\\n",
      "$H_{(1)}, \\bar{H}_t$ & 55.6 & 57.3 & 57.6 & 59.4 & 95.7 & 96.0 & 96.3 & 92.1 & 92.5 & 95.5 & 94.2 & 96.4 & 96.1 \\\\\n",
      "$H_{(2)}, \\bar{H}_t$ & 54.0 & 57.5 & 57.8 & 59.9 & 95.8 & 96.0 & 96.2 & 92.2 & 92.2 & 95.5 & 94.1 & 96.4 & 96.0 \\\\\n",
      "\\bottomrule\n",
      "\\end{tabular}\n",
      "\\end{table}\n",
      "\n",
      "\\begin{table}[t]\n",
      "\\begin{tabular}{lllllllllllll}\n",
      "\\toprule\n",
      "{} & \\multicolumn{3}{r}{ADNI} & \\multicolumn{3}{r}{RA} & \\multicolumn{3}{r}{Sepsis} & \\multicolumn{3}{r}{COPD} \\\\\n",
      "{estimator} & {PSN} & {RDT} & {LSTM} & {PSN} & {RDT} & {LSTM} & {PSN} & {RDT} & {LSTM} & {PSN} & {RDT} & {LSTM} \\\\\n",
      "{state} & {} & {} & {} & {} & {} & {} & {} & {} & {} & {} & {} & {} \\\\\n",
      "\\midrule\n",
      "$H_t$ & 66.7 & 62.8 & 68.0 & 96.2 & 90.0 & 96.8 & 94.9 & 77.0 & 95.7 & 96.2 & 80.1 & 96.5 \\\\\n",
      "\\bottomrule\n",
      "\\end{tabular}\n",
      "\\end{table}\n",
      "\n",
      "----- Reduction: max -----\n",
      "\n",
      "\\begin{table}[t]\n",
      "\\begin{tabular}{llllllllllllll}\n",
      "\\toprule\n",
      "{} & \\multicolumn{4}{r}{ADNI} & \\multicolumn{3}{r}{RA} & \\multicolumn{3}{r}{Sepsis} & \\multicolumn{3}{r}{COPD} \\\\\n",
      "{estimator} & {RS} & {LR} & {DT} & {MLP} & {LR} & {DT} & {MLP} & {LR} & {DT} & {MLP} & {LR} & {DT} & {MLP} \\\\\n",
      "{state} & {} & {} & {} & {} & {} & {} & {} & {} & {} & {} & {} & {} & {} \\\\\n",
      "\\midrule\n",
      "$X_t$ & 54.2 & 56.2 & 53.9 & 55.6 & 61.7 & 58.8 & 61.1 & 82.1 & 78.2 & 84.1 & 77.9 & 74.7 & 78.7 \\\\\n",
      "$A_{t-1}$ & 52.0 & 53.9 & 53.8 & 53.7 & 94.7 & 94.7 & 94.7 & 88.0 & 90.6 & 91.1 & 92.9 & 95.0 & 94.9 \\\\\n",
      "$H_{(0)}$ & 53.4 & 56.8 & 54.3 & 56.8 & 95.6 & 95.7 & 96.1 & 91.3 & 92.1 & 94.7 & 94.0 & 96.0 & 95.5 \\\\\n",
      "$\\bar{H}_t$ & 54.1 & 55.6 & 54.6 & 55.6 & 90.8 & 89.8 & 91.9 & 84.3 & 83.5 & 88.7 & 90.3 & 92.6 & 92.9 \\\\\n",
      "$H_{(0)}, \\bar{H}_t$ & 54.9 & 57.2 & 54.4 & 57.2 & 95.9 & 96.0 & 96.6 & 91.9 & 92.8 & 95.2 & 94.8 & 96.3 & 96.5 \\\\\n",
      "$H_{(1)}, \\bar{H}_t$ & 55.1 & 58.3 & 58.2 & 59.5 & 95.9 & 95.9 & 96.6 & 92.3 & 92.1 & 95.5 & 94.8 & 96.4 & 96.6 \\\\\n",
      "$H_{(2)}, \\bar{H}_t$ & 55.8 & 58.1 & 58.0 & 60.4 & 95.9 & 96.0 & 96.6 & 92.4 & 92.3 & 95.6 & 94.7 & 96.5 & 96.5 \\\\\n",
      "\\bottomrule\n",
      "\\end{tabular}\n",
      "\\end{table}\n",
      "\n",
      "\\begin{table}[t]\n",
      "\\begin{tabular}{lllllllllllll}\n",
      "\\toprule\n",
      "{} & \\multicolumn{3}{r}{ADNI} & \\multicolumn{3}{r}{RA} & \\multicolumn{3}{r}{Sepsis} & \\multicolumn{3}{r}{COPD} \\\\\n",
      "{estimator} & {PSN} & {RDT} & {LSTM} & {PSN} & {RDT} & {LSTM} & {PSN} & {RDT} & {LSTM} & {PSN} & {RDT} & {LSTM} \\\\\n",
      "{state} & {} & {} & {} & {} & {} & {} & {} & {} & {} & {} & {} & {} \\\\\n",
      "\\midrule\n",
      "$H_t$ & 66.7 & 62.8 & 68.0 & 96.2 & 90.0 & 96.8 & 94.9 & 77.0 & 95.7 & 96.2 & 80.1 & 96.5 \\\\\n",
      "\\bottomrule\n",
      "\\end{tabular}\n",
      "\\end{table}\n",
      "\n"
     ]
    }
   ],
   "source": [
    "for reduction in ['sum', 'mean', 'max']:\n",
    "    print(f'----- Reduction: {reduction} -----\\n')\n",
    "    table_auc_agg = table_auc[\n",
    "        table_auc.index.get_level_values('reduction').isin(['none', reduction])\n",
    "    ].droplevel(['reduction', 'state_dim'])\n",
    "\n",
    "    table_auc_agg_1, table_auc_agg_2 = get_table_sections(table_auc_agg, SEQUENCE_MODELS)\n",
    "    \n",
    "    table_auc_agg_1.style.to_latex(buf=sys.stdout, position='t', hrules=True, siunitx=True)\n",
    "    print()\n",
    "    table_auc_agg_2.style.to_latex(buf=sys.stdout, position='t', hrules=True, siunitx=True)\n",
    "    print()"
   ]
  },
  {
   "cell_type": "markdown",
   "id": "d44dfbc6-983f-4285-b407-96d51a4155ec",
   "metadata": {},
   "source": [
    "### AUC with confidence intervals"
   ]
  },
  {
   "cell_type": "code",
   "execution_count": 19,
   "id": "0bfea88e-4366-4206-985e-21cd8db71824",
   "metadata": {},
   "outputs": [
    {
     "name": "stdout",
     "output_type": "stream",
     "text": [
      "\\begin{table}[t]\n",
      "\\begin{tabular}{lllllllll}\n",
      "\\toprule\n",
      "{} & {estimator} & {RS} & {LR} & {DT} & {MLP} & {PSN} & {RDT} & {LSTM} \\\\\n",
      "{data} & {state} & {} & {} & {} & {} & {} & {} & {} \\\\\n",
      "\\midrule\n",
      "\\multirow[c]{8}{*}{ADNI} & $X_t$ & \\begin{tabular}[c]{@{}c@{}}54.2\\\\(51.4, 57.0)\\end{tabular} & \\begin{tabular}[c]{@{}c@{}}56.2\\\\(54.4, 57.4)\\end{tabular} & \\begin{tabular}[c]{@{}c@{}}53.9\\\\(52.1, 55.9)\\end{tabular} & \\begin{tabular}[c]{@{}c@{}}55.6\\\\(54.1, 57.0)\\end{tabular} & - & - & - \\\\\n",
      " & $A_{t-1}$ & \\begin{tabular}[c]{@{}c@{}}52.0\\\\(51.1, 53.0)\\end{tabular} & \\begin{tabular}[c]{@{}c@{}}53.9\\\\(52.3, 55.6)\\end{tabular} & \\begin{tabular}[c]{@{}c@{}}53.8\\\\(52.4, 55.4)\\end{tabular} & \\begin{tabular}[c]{@{}c@{}}53.7\\\\(52.5, 55.4)\\end{tabular} & - & - & - \\\\\n",
      " & $H_{(0)}$ & \\begin{tabular}[c]{@{}c@{}}53.4\\\\(51.1, 55.7)\\end{tabular} & \\begin{tabular}[c]{@{}c@{}}56.8\\\\(55.2, 58.1)\\end{tabular} & \\begin{tabular}[c]{@{}c@{}}54.3\\\\(52.7, 56.1)\\end{tabular} & \\begin{tabular}[c]{@{}c@{}}56.8\\\\(54.9, 58.8)\\end{tabular} & - & - & - \\\\\n",
      " & $\\bar{H}_t$ & \\begin{tabular}[c]{@{}c@{}}63.0\\\\(61.3, 64.7)\\end{tabular} & \\begin{tabular}[c]{@{}c@{}}64.4\\\\(62.8, 65.9)\\end{tabular} & \\begin{tabular}[c]{@{}c@{}}64.9\\\\(63.1, 66.7)\\end{tabular} & \\begin{tabular}[c]{@{}c@{}}64.1\\\\(62.2, 65.3)\\end{tabular} & - & - & - \\\\\n",
      " & $H_{(0)}, \\bar{H}_t$ & \\begin{tabular}[c]{@{}c@{}}63.7\\\\(62.9, 64.7)\\end{tabular} & \\begin{tabular}[c]{@{}c@{}}65.3\\\\(64.1, 66.4)\\end{tabular} & \\begin{tabular}[c]{@{}c@{}}65.0\\\\(63.1, 66.8)\\end{tabular} & \\begin{tabular}[c]{@{}c@{}}65.8\\\\(65.1, 66.5)\\end{tabular} & - & - & - \\\\\n",
      " & $H_{(1)}, \\bar{H}_t$ & \\begin{tabular}[c]{@{}c@{}}63.4\\\\(62.2, 64.6)\\end{tabular} & \\begin{tabular}[c]{@{}c@{}}65.6\\\\(64.4, 66.8)\\end{tabular} & \\begin{tabular}[c]{@{}c@{}}65.4\\\\(63.6, 67.1)\\end{tabular} & \\begin{tabular}[c]{@{}c@{}}66.0\\\\(65.3, 67.0)\\end{tabular} & - & - & - \\\\\n",
      " & $H_{(2)}, \\bar{H}_t$ & \\begin{tabular}[c]{@{}c@{}}62.9\\\\(61.7, 64.2)\\end{tabular} & \\begin{tabular}[c]{@{}c@{}}65.4\\\\(64.2, 66.7)\\end{tabular} & \\begin{tabular}[c]{@{}c@{}}65.3\\\\(63.6, 66.9)\\end{tabular} & \\begin{tabular}[c]{@{}c@{}}66.8\\\\(66.1, 67.6)\\end{tabular} & - & - & - \\\\\n",
      " & $H_t$ & - & - & - & - & \\begin{tabular}[c]{@{}c@{}}66.7\\\\(65.6, 67.8)\\end{tabular} & \\begin{tabular}[c]{@{}c@{}}62.8\\\\(61.0, 64.7)\\end{tabular} & \\begin{tabular}[c]{@{}c@{}}68.0\\\\(67.2, 68.9)\\end{tabular} \\\\\n",
      "\\multirow[c]{8}{*}{RA} & $X_t$ & - & \\begin{tabular}[c]{@{}c@{}}61.7\\\\(61.2, 62.4)\\end{tabular} & \\begin{tabular}[c]{@{}c@{}}58.8\\\\(58.1, 59.5)\\end{tabular} & \\begin{tabular}[c]{@{}c@{}}61.1\\\\(60.0, 62.1)\\end{tabular} & - & - & - \\\\\n",
      " & $A_{t-1}$ & - & \\begin{tabular}[c]{@{}c@{}}94.7\\\\(94.4, 94.9)\\end{tabular} & \\begin{tabular}[c]{@{}c@{}}94.7\\\\(94.4, 94.9)\\end{tabular} & \\begin{tabular}[c]{@{}c@{}}94.7\\\\(94.4, 94.9)\\end{tabular} & - & - & - \\\\\n",
      " & $H_{(0)}$ & - & \\begin{tabular}[c]{@{}c@{}}95.6\\\\(95.4, 95.7)\\end{tabular} & \\begin{tabular}[c]{@{}c@{}}95.7\\\\(95.5, 95.9)\\end{tabular} & \\begin{tabular}[c]{@{}c@{}}96.1\\\\(95.9, 96.2)\\end{tabular} & - & - & - \\\\\n",
      " & $\\bar{H}_t$ & - & \\begin{tabular}[c]{@{}c@{}}90.5\\\\(90.1, 90.9)\\end{tabular} & \\begin{tabular}[c]{@{}c@{}}92.0\\\\(91.4, 92.9)\\end{tabular} & \\begin{tabular}[c]{@{}c@{}}94.0\\\\(93.9, 94.2)\\end{tabular} & - & - & - \\\\\n",
      " & $H_{(0)}, \\bar{H}_t$ & - & \\begin{tabular}[c]{@{}c@{}}96.1\\\\(95.9, 96.2)\\end{tabular} & \\begin{tabular}[c]{@{}c@{}}96.5\\\\(96.3, 96.6)\\end{tabular} & \\begin{tabular}[c]{@{}c@{}}96.9\\\\(96.7, 97.0)\\end{tabular} & - & - & - \\\\\n",
      " & $H_{(1)}, \\bar{H}_t$ & - & \\begin{tabular}[c]{@{}c@{}}96.0\\\\(95.9, 96.1)\\end{tabular} & \\begin{tabular}[c]{@{}c@{}}96.4\\\\(96.2, 96.6)\\end{tabular} & \\begin{tabular}[c]{@{}c@{}}96.9\\\\(96.7, 97.0)\\end{tabular} & - & - & - \\\\\n",
      " & $H_{(2)}, \\bar{H}_t$ & - & \\begin{tabular}[c]{@{}c@{}}96.0\\\\(95.8, 96.1)\\end{tabular} & \\begin{tabular}[c]{@{}c@{}}96.4\\\\(96.1, 96.6)\\end{tabular} & \\begin{tabular}[c]{@{}c@{}}96.7\\\\(96.6, 96.9)\\end{tabular} & - & - & - \\\\\n",
      " & $H_t$ & - & - & - & - & \\begin{tabular}[c]{@{}c@{}}96.2\\\\(96.1, 96.4)\\end{tabular} & \\begin{tabular}[c]{@{}c@{}}90.0\\\\(85.9, 94.1)\\end{tabular} & \\begin{tabular}[c]{@{}c@{}}96.8\\\\(96.7, 97.0)\\end{tabular} \\\\\n",
      "\\multirow[c]{8}{*}{Sepsis} & $X_t$ & - & \\begin{tabular}[c]{@{}c@{}}82.1\\\\(81.8, 82.4)\\end{tabular} & \\begin{tabular}[c]{@{}c@{}}78.2\\\\(77.3, 78.9)\\end{tabular} & \\begin{tabular}[c]{@{}c@{}}84.1\\\\(83.9, 84.3)\\end{tabular} & - & - & - \\\\\n",
      " & $A_{t-1}$ & - & \\begin{tabular}[c]{@{}c@{}}88.0\\\\(87.9, 88.1)\\end{tabular} & \\begin{tabular}[c]{@{}c@{}}90.6\\\\(90.1, 91.0)\\end{tabular} & \\begin{tabular}[c]{@{}c@{}}91.1\\\\(91.0, 91.2)\\end{tabular} & - & - & - \\\\\n",
      " & $H_{(0)}$ & - & \\begin{tabular}[c]{@{}c@{}}91.3\\\\(91.2, 91.4)\\end{tabular} & \\begin{tabular}[c]{@{}c@{}}92.1\\\\(90.9, 92.9)\\end{tabular} & \\begin{tabular}[c]{@{}c@{}}94.7\\\\(94.6, 94.8)\\end{tabular} & - & - & - \\\\\n",
      " & $\\bar{H}_t$ & - & \\begin{tabular}[c]{@{}c@{}}84.6\\\\(84.4, 84.8)\\end{tabular} & \\begin{tabular}[c]{@{}c@{}}85.2\\\\(84.4, 86.0)\\end{tabular} & \\begin{tabular}[c]{@{}c@{}}89.1\\\\(89.0, 89.2)\\end{tabular} & - & - & - \\\\\n",
      " & $H_{(0)}, \\bar{H}_t$ & - & \\begin{tabular}[c]{@{}c@{}}91.9\\\\(91.8, 92.0)\\end{tabular} & \\begin{tabular}[c]{@{}c@{}}92.3\\\\(91.4, 92.9)\\end{tabular} & \\begin{tabular}[c]{@{}c@{}}95.3\\\\(95.2, 95.3)\\end{tabular} & - & - & - \\\\\n",
      " & $H_{(1)}, \\bar{H}_t$ & - & \\begin{tabular}[c]{@{}c@{}}92.2\\\\(92.1, 92.3)\\end{tabular} & \\begin{tabular}[c]{@{}c@{}}92.5\\\\(92.2, 92.9)\\end{tabular} & \\begin{tabular}[c]{@{}c@{}}95.5\\\\(95.4, 95.5)\\end{tabular} & - & - & - \\\\\n",
      " & $H_{(2)}, \\bar{H}_t$ & - & \\begin{tabular}[c]{@{}c@{}}92.3\\\\(92.2, 92.4)\\end{tabular} & \\begin{tabular}[c]{@{}c@{}}92.6\\\\(92.2, 92.9)\\end{tabular} & \\begin{tabular}[c]{@{}c@{}}95.5\\\\(95.4, 95.6)\\end{tabular} & - & - & - \\\\\n",
      " & $H_t$ & - & - & - & - & \\begin{tabular}[c]{@{}c@{}}94.9\\\\(94.7, 95.1)\\end{tabular} & \\begin{tabular}[c]{@{}c@{}}77.0\\\\(69.5, 85.5)\\end{tabular} & \\begin{tabular}[c]{@{}c@{}}95.7\\\\(95.7, 95.8)\\end{tabular} \\\\\n",
      "\\multirow[c]{8}{*}{COPD} & $X_t$ & - & \\begin{tabular}[c]{@{}c@{}}77.9\\\\(77.4, 78.3)\\end{tabular} & \\begin{tabular}[c]{@{}c@{}}74.7\\\\(72.9, 75.9)\\end{tabular} & \\begin{tabular}[c]{@{}c@{}}78.7\\\\(78.1, 79.4)\\end{tabular} & - & - & - \\\\\n",
      " & $A_{t-1}$ & - & \\begin{tabular}[c]{@{}c@{}}92.9\\\\(92.5, 93.2)\\end{tabular} & \\begin{tabular}[c]{@{}c@{}}95.0\\\\(94.6, 95.2)\\end{tabular} & \\begin{tabular}[c]{@{}c@{}}94.9\\\\(94.9, 95.0)\\end{tabular} & - & - & - \\\\\n",
      " & $H_{(0)}$ & - & \\begin{tabular}[c]{@{}c@{}}94.0\\\\(93.8, 94.2)\\end{tabular} & \\begin{tabular}[c]{@{}c@{}}96.0\\\\(95.7, 96.3)\\end{tabular} & \\begin{tabular}[c]{@{}c@{}}95.5\\\\(95.2, 95.7)\\end{tabular} & - & - & - \\\\\n",
      " & $\\bar{H}_t$ & - & \\begin{tabular}[c]{@{}c@{}}91.1\\\\(90.8, 91.4)\\end{tabular} & \\begin{tabular}[c]{@{}c@{}}89.3\\\\(86.7, 91.4)\\end{tabular} & \\begin{tabular}[c]{@{}c@{}}93.6\\\\(93.2, 93.9)\\end{tabular} & - & - & - \\\\\n",
      " & $H_{(0)}, \\bar{H}_t$ & - & \\begin{tabular}[c]{@{}c@{}}94.7\\\\(94.6, 94.9)\\end{tabular} & \\begin{tabular}[c]{@{}c@{}}96.7\\\\(96.2, 97.0)\\end{tabular} & \\begin{tabular}[c]{@{}c@{}}96.3\\\\(96.1, 96.5)\\end{tabular} & - & - & - \\\\\n",
      " & $H_{(1)}, \\bar{H}_t$ & - & \\begin{tabular}[c]{@{}c@{}}94.7\\\\(94.5, 94.9)\\end{tabular} & \\begin{tabular}[c]{@{}c@{}}96.8\\\\(96.4, 97.0)\\end{tabular} & \\begin{tabular}[c]{@{}c@{}}96.4\\\\(96.2, 96.6)\\end{tabular} & - & - & - \\\\\n",
      " & $H_{(2)}, \\bar{H}_t$ & - & \\begin{tabular}[c]{@{}c@{}}94.7\\\\(94.5, 94.8)\\end{tabular} & \\begin{tabular}[c]{@{}c@{}}96.8\\\\(96.4, 97.0)\\end{tabular} & \\begin{tabular}[c]{@{}c@{}}96.3\\\\(96.1, 96.5)\\end{tabular} & - & - & - \\\\\n",
      " & $H_t$ & - & - & - & - & \\begin{tabular}[c]{@{}c@{}}96.2\\\\(96.0, 96.5)\\end{tabular} & \\begin{tabular}[c]{@{}c@{}}80.1\\\\(74.9, 85.4)\\end{tabular} & \\begin{tabular}[c]{@{}c@{}}96.5\\\\(96.3, 96.6)\\end{tabular} \\\\\n",
      "\\bottomrule\n",
      "\\end{tabular}\n",
      "\\end{table}\n"
     ]
    }
   ],
   "source": [
    "reduction = 'sum'\n",
    "\n",
    "table_auc_cis_sum = table_auc_cis[\n",
    "    table_auc.index.get_level_values('reduction').isin(['none', reduction])\n",
    "].droplevel(['reduction', 'state_dim'])\n",
    "\n",
    "table_auc_cis_sum.style.to_latex(buf=sys.stdout, position='t', hrules=True, siunitx=True)"
   ]
  },
  {
   "cell_type": "markdown",
   "id": "6d0662d4-baa4-4088-9f90-253bc5ed3e3d",
   "metadata": {},
   "source": [
    "### Calibration error"
   ]
  },
  {
   "cell_type": "code",
   "execution_count": 20,
   "id": "a7aa7405-4c60-4e37-b81f-1b5d24834de9",
   "metadata": {},
   "outputs": [],
   "source": [
    "reduction = 'sum'"
   ]
  },
  {
   "cell_type": "code",
   "execution_count": 21,
   "id": "6ebb6c4d-1be3-4259-984e-2270a3ca8a01",
   "metadata": {},
   "outputs": [],
   "source": [
    "# ADNI (ECE)\n",
    "\n",
    "table_ece_sum = table_ece[\n",
    "        table_ece.index.get_level_values('reduction').isin(['none', reduction])\n",
    "    ].droplevel(['reduction', 'state_dim'])\n",
    "\n",
    "table_ece_sum = table_ece_sum[table_ece_sum.index.get_level_values('data') == 'ADNI']\n",
    "\n",
    "table_ece_sum_1, table_ece_sum_2 = get_table_sections(table_ece_sum, SEQUENCE_MODELS)"
   ]
  },
  {
   "cell_type": "code",
   "execution_count": 22,
   "id": "f82548e4-1f43-43fd-abfe-8365a409d75c",
   "metadata": {},
   "outputs": [],
   "source": [
    "# RA, Sepsis, and COPD (SCE)\n",
    "\n",
    "table_sce_sum = table_sce[\n",
    "        table_sce.index.get_level_values('reduction').isin(['none', reduction])\n",
    "    ].droplevel(['reduction', 'state_dim'])\n",
    "\n",
    "table_sce_sum = table_sce_sum[table_sce_sum.index.get_level_values('data') != 'ADNI']\n",
    "\n",
    "table_sce_sum_1, table_sce_sum_2 = get_table_sections(table_sce_sum, SEQUENCE_MODELS)"
   ]
  },
  {
   "cell_type": "code",
   "execution_count": 23,
   "id": "269ba7a4-f8da-4cd7-824a-358cbee3b79c",
   "metadata": {},
   "outputs": [],
   "source": [
    "table_cal_sum_1 = pd.concat([table_ece_sum_1, table_sce_sum_1], axis=1)\n",
    "table_cal_sum_2 = pd.concat([table_ece_sum_2, table_sce_sum_2], axis=1)"
   ]
  },
  {
   "cell_type": "code",
   "execution_count": 24,
   "id": "9ec53eef-a2ca-4b05-bb8c-8270366d8bd7",
   "metadata": {},
   "outputs": [
    {
     "name": "stdout",
     "output_type": "stream",
     "text": [
      "\\begin{table}[t]\n",
      "\\begin{tabular}{llllllllllllll}\n",
      "\\toprule\n",
      "{} & \\multicolumn{4}{r}{ADNI} & \\multicolumn{3}{r}{RA} & \\multicolumn{3}{r}{Sepsis} & \\multicolumn{3}{r}{COPD} \\\\\n",
      "{estimator} & {RS} & {LR} & {DT} & {MLP} & {LR} & {DT} & {MLP} & {LR} & {DT} & {MLP} & {LR} & {DT} & {MLP} \\\\\n",
      "{state} & {} & {} & {} & {} & {} & {} & {} & {} & {} & {} & {} & {} & {} \\\\\n",
      "\\midrule\n",
      "$X_t$ & 8.6 & 1.9 & 3.5 & 2.2 & 1.1 & 1.3 & 1.6 & 0.2 & 0.3 & 0.2 & 0.4 & 0.4 & 0.5 \\\\\n",
      "$A_{t-1}$ & 8.8 & 1.8 & 2.0 & 3.3 & 0.4 & 0.4 & 0.7 & 1.0 & 0.1 & 0.2 & 0.9 & 0.2 & 0.3 \\\\\n",
      "$H_{(0)}$ & 8.2 & 2.3 & 4.0 & 2.8 & 0.6 & 0.4 & 0.8 & 0.6 & 0.1 & 0.2 & 0.6 & 0.2 & 0.3 \\\\\n",
      "$\\bar{H}_t$ & 6.5 & 2.8 & 2.7 & 3.9 & 3.5 & 1.3 & 1.1 & 0.4 & 0.2 & 0.2 & 0.6 & 0.5 & 0.4 \\\\\n",
      "$H_{(0)}, \\bar{H}_t$ & 10.1 & 2.6 & 2.6 & 3.6 & 0.9 & 0.5 & 0.9 & 0.6 & 0.1 & 0.2 & 0.5 & 0.2 & 0.4 \\\\\n",
      "$H_{(1)}, \\bar{H}_t$ & 7.6 & 2.7 & 3.3 & 2.9 & 1.0 & 0.5 & 0.8 & 0.5 & 0.1 & 0.2 & 0.5 & 0.2 & 0.4 \\\\\n",
      "$H_{(2)}, \\bar{H}_t$ & 7.9 & 2.7 & 3.1 & 2.4 & 1.0 & 0.5 & 1.0 & 0.5 & 0.1 & 0.2 & 0.5 & 0.2 & 0.4 \\\\\n",
      "\\bottomrule\n",
      "\\end{tabular}\n",
      "\\end{table}\n",
      "\n",
      "\\begin{table}[t]\n",
      "\\begin{tabular}{lllllllllllll}\n",
      "\\toprule\n",
      "{} & \\multicolumn{3}{r}{ADNI} & \\multicolumn{3}{r}{RA} & \\multicolumn{3}{r}{Sepsis} & \\multicolumn{3}{r}{COPD} \\\\\n",
      "{estimator} & {PSN} & {RDT} & {LSTM} & {PSN} & {RDT} & {LSTM} & {PSN} & {RDT} & {LSTM} & {PSN} & {RDT} & {LSTM} \\\\\n",
      "{state} & {} & {} & {} & {} & {} & {} & {} & {} & {} & {} & {} & {} \\\\\n",
      "\\midrule\n",
      "$H_t$ & 3.8 & 2.4 & 4.4 & 1.1 & 4.0 & 0.8 & 0.5 & 0.9 & 0.2 & 0.6 & 0.3 & 0.4 \\\\\n",
      "\\bottomrule\n",
      "\\end{tabular}\n",
      "\\end{table}\n"
     ]
    }
   ],
   "source": [
    "table_cal_sum_1.style.to_latex(buf=sys.stdout, position='t', hrules=True, siunitx=True)\n",
    "print()\n",
    "table_cal_sum_2.style.to_latex(buf=sys.stdout, position='t', hrules=True, siunitx=True)"
   ]
  },
  {
   "cell_type": "markdown",
   "id": "182e389b-744c-4f03-a6bf-2d5a9225220b",
   "metadata": {},
   "source": [
    "### Contextualized policy recovery (CPR)"
   ]
  },
  {
   "cell_type": "code",
   "execution_count": 25,
   "id": "c2dc4f2a-de22-4cca-a260-43d6ef40741f",
   "metadata": {},
   "outputs": [
    {
     "data": {
      "text/html": [
       "<div>\n",
       "<style scoped>\n",
       "    .dataframe tbody tr th:only-of-type {\n",
       "        vertical-align: middle;\n",
       "    }\n",
       "\n",
       "    .dataframe tbody tr th {\n",
       "        vertical-align: top;\n",
       "    }\n",
       "\n",
       "    .dataframe thead th {\n",
       "        text-align: right;\n",
       "    }\n",
       "</style>\n",
       "<table border=\"1\" class=\"dataframe\">\n",
       "  <thead>\n",
       "    <tr style=\"text-align: right;\">\n",
       "      <th></th>\n",
       "      <th>AUROC</th>\n",
       "      <th>ECE</th>\n",
       "    </tr>\n",
       "    <tr>\n",
       "      <th>Encoder</th>\n",
       "      <th></th>\n",
       "      <th></th>\n",
       "    </tr>\n",
       "  </thead>\n",
       "  <tbody>\n",
       "    <tr>\n",
       "      <th>LSTM</th>\n",
       "      <td>0.686674</td>\n",
       "      <td>0.022428</td>\n",
       "    </tr>\n",
       "    <tr>\n",
       "      <th>RNN</th>\n",
       "      <td>0.686207</td>\n",
       "      <td>0.021361</td>\n",
       "    </tr>\n",
       "  </tbody>\n",
       "</table>\n",
       "</div>"
      ],
      "text/plain": [
       "            AUROC       ECE\n",
       "Encoder                    \n",
       "LSTM     0.686674  0.022428\n",
       "RNN      0.686207  0.021361"
      ]
     },
     "execution_count": 25,
     "metadata": {},
     "output_type": "execute_result"
    }
   ],
   "source": [
    "cpr_results_path = '/mimer/NOBACKUP/groups/inpole/results/adni/cpr_results'\n",
    "cpr_scores = get_cpr_scores(cpr_results_path)\n",
    "cpr_scores.groupby('Encoder').mean()"
   ]
  },
  {
   "cell_type": "markdown",
   "id": "112e9332-20a5-49b5-aafd-c23ef374b3ef",
   "metadata": {},
   "source": [
    "## Sepsis analysis"
   ]
  },
  {
   "cell_type": "code",
   "execution_count": 26,
   "id": "f52f10c4-718d-4861-a42b-d3d3981686f2",
   "metadata": {},
   "outputs": [],
   "source": [
    "sepsis_results = joblib.load('/mimer/NOBACKUP/groups/inpole/results/results_sepsis.pickle')"
   ]
  },
  {
   "cell_type": "markdown",
   "id": "c5c9a856-cd8c-436e-85f4-db9270369185",
   "metadata": {},
   "source": [
    "### Performance w.r.t. patient groups"
   ]
  },
  {
   "cell_type": "code",
   "execution_count": 27,
   "id": "372ca253-e1ad-499b-b56a-4ed8c2e90a8f",
   "metadata": {},
   "outputs": [],
   "source": [
    "sepsis_groups = pd.DataFrame(sepsis_results['groups'][1:], columns=sepsis_results['groups'][0])\n",
    "sepsis_groups.Estimator.replace(ESTIMATOR_MAPPER, inplace=True)"
   ]
  },
  {
   "cell_type": "code",
   "execution_count": 28,
   "id": "d17ed990-180b-41fd-a351-b8ff46dfcdb2",
   "metadata": {},
   "outputs": [
    {
     "data": {
      "image/png": "[encoded data removed]",
      "text/plain": [
       "<Figure size 600x400 with 1 Axes>"
      ]
     },
     "metadata": {},
     "output_type": "display_data"
    }
   ],
   "source": [
    "mask = (\n",
    "    sepsis_groups.Estimator.isin(['LR', 'PSN'])\n",
    "    & sepsis_groups.State.ne(r'$\\bar{H}_t$')\n",
    "    & sepsis_groups.Reduction.isin(['sum', 'none'])\n",
    "    & sepsis_groups.Group.isin([1, 3, 4, 6])\n",
    "    & sepsis_groups.Metric.eq('auc_macro')\n",
    ")\n",
    "\n",
    "fig, ax = plt.subplots(figsize=(6, 4))\n",
    "plt.rcParams.update(RC_DEFAULT)\n",
    "\n",
    "sns.boxplot(sepsis_groups[mask], x='State', y='Score', hue='Group', ax=ax)\n",
    "\n",
    "ax.tick_params(axis='x', labelrotation=90)\n",
    "ax.set(xlabel=None)\n",
    "ax.set_ylabel('AUROC')\n",
    "sns.move_legend(ax, 'lower right', ncol=2, title='Group', frameon=True)\n",
    "\n",
    "fig.savefig('sepsis_groups.pdf', dpi=300, bbox_inches='tight', pad_inches=0)"
   ]
  },
  {
   "cell_type": "markdown",
   "id": "fa8199d7-1e4e-410e-84b0-386bf290213c",
   "metadata": {},
   "source": [
    "## Average performance"
   ]
  },
  {
   "cell_type": "code",
   "execution_count": 29,
   "id": "7cfef50a-8784-4072-88d9-56c96572ff82",
   "metadata": {},
   "outputs": [
    {
     "data": {
      "text/html": [
       "<style type=\"text/css\">\n",
       "</style>\n",
       "<table id=\"T_d17bf\">\n",
       "  <thead>\n",
       "    <tr>\n",
       "      <th class=\"blank level0\" >&nbsp;</th>\n",
       "      <th id=\"T_d17bf_level0_col0\" class=\"col_heading level0 col0\" >1</th>\n",
       "      <th id=\"T_d17bf_level0_col1\" class=\"col_heading level0 col1\" >2</th>\n",
       "      <th id=\"T_d17bf_level0_col2\" class=\"col_heading level0 col2\" >3</th>\n",
       "      <th id=\"T_d17bf_level0_col3\" class=\"col_heading level0 col3\" >4</th>\n",
       "      <th id=\"T_d17bf_level0_col4\" class=\"col_heading level0 col4\" >5</th>\n",
       "      <th id=\"T_d17bf_level0_col5\" class=\"col_heading level0 col5\" >6</th>\n",
       "    </tr>\n",
       "  </thead>\n",
       "  <tbody>\n",
       "    <tr>\n",
       "      <th id=\"T_d17bf_level0_row0\" class=\"row_heading level0 row0\" >$X_t$</th>\n",
       "      <td id=\"T_d17bf_row0_col0\" class=\"data row0 col0\" >-12.5</td>\n",
       "      <td id=\"T_d17bf_row0_col1\" class=\"data row0 col1\" >-13.5</td>\n",
       "      <td id=\"T_d17bf_row0_col2\" class=\"data row0 col2\" >-13.7</td>\n",
       "      <td id=\"T_d17bf_row0_col3\" class=\"data row0 col3\" >-14.0</td>\n",
       "      <td id=\"T_d17bf_row0_col4\" class=\"data row0 col4\" >-13.1</td>\n",
       "      <td id=\"T_d17bf_row0_col5\" class=\"data row0 col5\" >-11.8</td>\n",
       "    </tr>\n",
       "    <tr>\n",
       "      <th id=\"T_d17bf_level0_row1\" class=\"row_heading level0 row1\" >$A_{t-1}$</th>\n",
       "      <td id=\"T_d17bf_row1_col0\" class=\"data row1 col0\" >-10.5</td>\n",
       "      <td id=\"T_d17bf_row1_col1\" class=\"data row1 col1\" >-7.4</td>\n",
       "      <td id=\"T_d17bf_row1_col2\" class=\"data row1 col2\" >-7.1</td>\n",
       "      <td id=\"T_d17bf_row1_col3\" class=\"data row1 col3\" >-6.7</td>\n",
       "      <td id=\"T_d17bf_row1_col4\" class=\"data row1 col4\" >-7.5</td>\n",
       "      <td id=\"T_d17bf_row1_col5\" class=\"data row1 col5\" >-9.2</td>\n",
       "    </tr>\n",
       "    <tr>\n",
       "      <th id=\"T_d17bf_level0_row2\" class=\"row_heading level0 row2\" >$H_{(0)}$</th>\n",
       "      <td id=\"T_d17bf_row2_col0\" class=\"data row2 col0\" >-3.6</td>\n",
       "      <td id=\"T_d17bf_row2_col1\" class=\"data row2 col1\" >-3.8</td>\n",
       "      <td id=\"T_d17bf_row2_col2\" class=\"data row2 col2\" >-3.9</td>\n",
       "      <td id=\"T_d17bf_row2_col3\" class=\"data row2 col3\" >-4.0</td>\n",
       "      <td id=\"T_d17bf_row2_col4\" class=\"data row2 col4\" >-3.8</td>\n",
       "      <td id=\"T_d17bf_row2_col5\" class=\"data row2 col5\" >-3.2</td>\n",
       "    </tr>\n",
       "    <tr>\n",
       "      <th id=\"T_d17bf_level0_row3\" class=\"row_heading level0 row3\" >$H_{(0)}, \\bar{H}_t$</th>\n",
       "      <td id=\"T_d17bf_row3_col0\" class=\"data row3 col0\" >-2.9</td>\n",
       "      <td id=\"T_d17bf_row3_col1\" class=\"data row3 col1\" >-3.1</td>\n",
       "      <td id=\"T_d17bf_row3_col2\" class=\"data row3 col2\" >-3.3</td>\n",
       "      <td id=\"T_d17bf_row3_col3\" class=\"data row3 col3\" >-3.3</td>\n",
       "      <td id=\"T_d17bf_row3_col4\" class=\"data row3 col4\" >-3.3</td>\n",
       "      <td id=\"T_d17bf_row3_col5\" class=\"data row3 col5\" >-2.6</td>\n",
       "    </tr>\n",
       "    <tr>\n",
       "      <th id=\"T_d17bf_level0_row4\" class=\"row_heading level0 row4\" >$H_{(1)}, \\bar{H}_t$</th>\n",
       "      <td id=\"T_d17bf_row4_col0\" class=\"data row4 col0\" >-2.4</td>\n",
       "      <td id=\"T_d17bf_row4_col1\" class=\"data row4 col1\" >-2.7</td>\n",
       "      <td id=\"T_d17bf_row4_col2\" class=\"data row4 col2\" >-3.0</td>\n",
       "      <td id=\"T_d17bf_row4_col3\" class=\"data row4 col3\" >-3.0</td>\n",
       "      <td id=\"T_d17bf_row4_col4\" class=\"data row4 col4\" >-3.0</td>\n",
       "      <td id=\"T_d17bf_row4_col5\" class=\"data row4 col5\" >-2.2</td>\n",
       "    </tr>\n",
       "    <tr>\n",
       "      <th id=\"T_d17bf_level0_row5\" class=\"row_heading level0 row5\" >$H_{(2)}, \\bar{H}_t$</th>\n",
       "      <td id=\"T_d17bf_row5_col0\" class=\"data row5 col0\" >-2.3</td>\n",
       "      <td id=\"T_d17bf_row5_col1\" class=\"data row5 col1\" >-2.7</td>\n",
       "      <td id=\"T_d17bf_row5_col2\" class=\"data row5 col2\" >-2.9</td>\n",
       "      <td id=\"T_d17bf_row5_col3\" class=\"data row5 col3\" >-2.9</td>\n",
       "      <td id=\"T_d17bf_row5_col4\" class=\"data row5 col4\" >-2.9</td>\n",
       "      <td id=\"T_d17bf_row5_col5\" class=\"data row5 col5\" >-2.1</td>\n",
       "    </tr>\n",
       "  </tbody>\n",
       "</table>\n"
      ],
      "text/plain": [
       "<pandas.io.formats.style.Styler at 0x1501e0386bc0>"
      ]
     },
     "execution_count": 29,
     "metadata": {},
     "output_type": "execute_result"
    }
   ],
   "source": [
    "included_states = ['$X_t$', '$A_{t-1}$', '$H_{(0)}$', r'$H_{(0)}, \\bar{H}_t$', r'$H_{(1)}, \\bar{H}_t$', r'$H_{(2)}, \\bar{H}_t$']\n",
    "groups = [1, 2, 3, 4, 5, 6]\n",
    "\n",
    "rel_diffs = []\n",
    "\n",
    "for state in included_states:\n",
    "    mask = (\n",
    "        sepsis_groups.Estimator.isin(['LR', 'PSN'])\n",
    "        & sepsis_groups.State.isin([state, '$H_t$'])\n",
    "        & sepsis_groups.Reduction.isin(['sum', 'none'])\n",
    "        & sepsis_groups.Group.isin(groups)\n",
    "        & sepsis_groups.Metric.eq('auc_macro')\n",
    "    )\n",
    "    \n",
    "    scores = sepsis_groups[mask].drop(columns='Trial').groupby(['State', 'Group']).mean()\n",
    "    A = scores.xs('$H_t$', level='State')\n",
    "    B = scores.xs(state, level='State')\n",
    "    rel_diffs += [(100 * (B - A) / A).values]\n",
    "\n",
    "rel_diffs = np.concatenate(rel_diffs, axis=1)\n",
    "rel_diffs = pd.DataFrame(rel_diffs, columns=included_states, index=groups)\n",
    "\n",
    "display_dataframe(rel_diffs.T, precision=1)"
   ]
  },
  {
   "cell_type": "markdown",
   "id": "d8d43c04-49b9-4f1d-8e70-4f5a187d06c0",
   "metadata": {},
   "source": [
    "### Performance w.r.t. stage"
   ]
  },
  {
   "cell_type": "code",
   "execution_count": 30,
   "id": "ba544787-ef3e-4601-9646-ee9c50f9638c",
   "metadata": {},
   "outputs": [],
   "source": [
    "sepsis_time = pd.DataFrame(sepsis_results['stage'][1:], columns=sepsis_results['stage'][0])\n",
    "sepsis_time.Estimator.replace(ESTIMATOR_MAPPER, inplace=True)"
   ]
  },
  {
   "cell_type": "code",
   "execution_count": 31,
   "id": "a7eb9c83-3774-47c7-8247-a9931dd3761e",
   "metadata": {},
   "outputs": [
    {
     "data": {
      "image/png": "[encoded data removed]",
      "text/plain": [
       "<Figure size 600x400 with 1 Axes>"
      ]
     },
     "metadata": {},
     "output_type": "display_data"
    }
   ],
   "source": [
    "mask = (\n",
    "    sepsis_time.Estimator.isin(['DT', 'PSN'])\n",
    "    & ~sepsis_time.State.isin([r'$H_{(1)}, \\bar{H}_t$', r'$H_{(2)}, \\bar{H}_t$'])\n",
    "    & sepsis_time.Reduction.isin(['sum', 'none'])\n",
    "    & sepsis_time.Stage.le(15) \n",
    "    & sepsis_time.Metric.eq('auc_weighted')\n",
    ")\n",
    "\n",
    "fig, ax = plt.subplots(figsize=(6, 4))\n",
    "plt.rcParams.update(RC_DEFAULT)\n",
    "\n",
    "sns.lineplot(sepsis_time[mask], x='Stage', y='Score', hue='State', ax=ax, palette=COLOR_MAPPER)\n",
    "\n",
    "ax.set_xticks(range(1, 16, 2))\n",
    "ax.set_ylabel('AUROC')\n",
    "sns.move_legend(ax, \"lower right\", bbox_to_anchor=(1, 0), ncol=2, title=None, frameon=True)\n",
    "\n",
    "fig.savefig('sepsis_time.pdf', dpi=300, bbox_inches='tight', pad_inches=0)"
   ]
  },
  {
   "cell_type": "markdown",
   "id": "061fa65e-3cf7-4462-a689-ebff2e9b03e1",
   "metadata": {},
   "source": [
    "## RA analysis"
   ]
  },
  {
   "cell_type": "code",
   "execution_count": 32,
   "id": "8b63b99c-3c2a-45fc-9a3e-b7b4e55987b9",
   "metadata": {},
   "outputs": [],
   "source": [
    "ra_results = joblib.load('/mimer/NOBACKUP/groups/inpole/results/results_ra.pickle')"
   ]
  },
  {
   "cell_type": "markdown",
   "id": "7edaad6a-7644-4eba-9378-e602fb6a9a69",
   "metadata": {},
   "source": [
    "### OPE ratios"
   ]
  },
  {
   "cell_type": "code",
   "execution_count": 33,
   "id": "6b043891-3950-42fb-95fc-f2f1fab6227b",
   "metadata": {},
   "outputs": [],
   "source": [
    "ra_ope = pd.DataFrame(ra_results['rho'][1:], columns=ra_results['rho'][0])\n",
    "ra_ope.Estimator.replace(ESTIMATOR_MAPPER, inplace=True)"
   ]
  },
  {
   "cell_type": "code",
   "execution_count": 34,
   "id": "da0ddf5d-ad25-4c31-b5a5-57555dbb94a8",
   "metadata": {},
   "outputs": [],
   "source": [
    "# Take the median of inverse probability products (IPPs).\n",
    "ra_ope['mipp'] = ra_ope.Rho.apply(lambda rho: np.median(1 / np.array(rho)))"
   ]
  },
  {
   "cell_type": "code",
   "execution_count": 35,
   "id": "5daf3279-0cf2-447f-a868-45c59a792213",
   "metadata": {},
   "outputs": [
    {
     "data": {
      "image/png": "[encoded data removed]",
      "text/plain": [
       "<Figure size 450x300 with 1 Axes>"
      ]
     },
     "metadata": {},
     "output_type": "display_data"
    }
   ],
   "source": [
    "excluded_states = ['$X_t$', r'$\\bar{H}_t$', r'$H_{(1)}, \\bar{H}_t$', r'$H_{(2)}, \\bar{H}_t$']\n",
    "\n",
    "mask = (\n",
    "    ra_ope.Estimator.isin(['LR', 'LSTM'])\n",
    "    & ~ra_ope.State.isin(excluded_states)\n",
    "    & ra_ope.Reduction.isin(['max', 'none'])\n",
    "    & ra_ope.Stage.ge(1)  # Ignore -1\n",
    "    & ra_ope.Stage.le(10)\n",
    ")\n",
    "\n",
    "fig, ax = plt.subplots(figsize=(4.5, 3))\n",
    "plt.rcParams.update(RC_SMALL)\n",
    "\n",
    "sns.lineplot(\n",
    "    data=ra_ope[mask], x='Stage', y='mipp', hue='State', \n",
    "    palette=COLOR_MAPPER, ax=ax, zorder=100,\n",
    ")\n",
    "\n",
    "ax.set_xticks(range(1, 11))\n",
    "ax.set_xlabel('Stage $t^{\\prime}$')\n",
    "ax.set_ylabel('$\\prod_{t=1}^{t^\\prime}p_{\\hat{\\mu}}(a_t|s_t)^{-1}$')\n",
    "ax.set_yscale('log')\n",
    "ax.grid(zorder=-100)\n",
    "sns.move_legend(ax, \"upper left\", ncol=1, title=None, frameon=True)\n",
    "\n",
    "fig.savefig('ra_ope.pdf', dpi=300, bbox_inches='tight', pad_inches=0)"
   ]
  },
  {
   "cell_type": "markdown",
   "id": "91a07419-33f2-49fa-9f77-004c7ebe6244",
   "metadata": {},
   "source": [
    "### Simple vs. complex models"
   ]
  },
  {
   "cell_type": "code",
   "execution_count": 36,
   "id": "66e11d3f-4e52-4596-ad39-5fa81e8abf44",
   "metadata": {},
   "outputs": [],
   "source": [
    "ra_probas = pd.DataFrame(ra_results['probas'][1:], columns=ra_results['probas'][0])\n",
    "ra_probas.Estimator.replace(ESTIMATOR_MAPPER, inplace=True)"
   ]
  },
  {
   "cell_type": "code",
   "execution_count": 37,
   "id": "126d88bc-778d-4f97-b97a-198b6dc3885b",
   "metadata": {},
   "outputs": [
    {
     "data": {
      "image/png": "[encoded data removed]",
      "text/plain": [
       "<Figure size 450x300 with 2 Axes>"
      ]
     },
     "metadata": {},
     "output_type": "display_data"
    }
   ],
   "source": [
    "ra_data_path = '/mimer/NOBACKUP/groups/inpole/data/ra_Xgy.pkl'\n",
    "\n",
    "state_true = '$H_t$'\n",
    "estimator_true = 'LSTM'\n",
    "\n",
    "state_pred = '$H_{(0)}$'\n",
    "estimator_pred = 'LR'\n",
    "\n",
    "y_true_all, y_pred_all, _X, _y = compare_ra_models(\n",
    "    ra_probas,\n",
    "    ra_data_path,\n",
    "    state_true=state_true,\n",
    "    estimator_true=estimator_true,\n",
    "    state_pred=state_pred,\n",
    "    estimator_pred=estimator_pred,\n",
    "    switches_only=True,\n",
    ")\n",
    "\n",
    "C = confusion_matrix(y_true_all, y_pred_all, normalize='true')\n",
    "\n",
    "fig, ax = plt.subplots(figsize=(4.5, 3))\n",
    "plt.rcParams.update(RC_SMALL)\n",
    "\n",
    "labels = RAData(path=ra_data_path).get_labels()\n",
    "sns.heatmap(C, xticklabels=labels, yticklabels=labels, robust=True, square=True, ax=ax)\n",
    "\n",
    "ax.set_xlabel(f\"{estimator_pred} using {state_pred}\")\n",
    "ax.set_ylabel(f\"{estimator_true} using {state_true}\")\n",
    "\n",
    "fig.savefig('ra_confusion.pdf', dpi=300, bbox_inches='tight', pad_inches=0)"
   ]
  },
  {
   "cell_type": "markdown",
   "id": "7ef1b6b0-6d60-4cd0-8a10-9080b717fc6f",
   "metadata": {},
   "source": [
    "### Model complexity"
   ]
  },
  {
   "cell_type": "code",
   "execution_count": 38,
   "id": "4f6a470f-f347-49d2-8161-54c59673c484",
   "metadata": {},
   "outputs": [
    {
     "data": {
      "image/png": "[encoded data removed]",
      "text/plain": [
       "<Figure size 450x300 with 1 Axes>"
      ]
     },
     "metadata": {},
     "output_type": "display_data"
    }
   ],
   "source": [
    "path = partial(os.path.join, '/mimer/NOBACKUP/groups/inpole/results/ra')\n",
    "bins = range(0, 55, 5)\n",
    "\n",
    "fig, ax = plt.subplots(figsize=(4.5, 3))\n",
    "plt.rcParams.update(RC_SMALL)\n",
    "\n",
    "estimators = [\n",
    "    ('dt', path('20240903_2237_sweep/sweep/trial_01/'), bins, '$X_t$', COLOR_MAPPER['$X_t$'], ax),\n",
    "    ('dt', path('20240903_2238_sweep/sweep/trial_01/'), bins, '$A_{t-1}$', COLOR_MAPPER['$A_{t-1}$'], ax),\n",
    "    ('dt', path('20240903_2239_sweep/sweep/trial_01/'), bins, '$H_{(0)}$', COLOR_MAPPER['$H_{(0)}$'], ax),\n",
    "    #('dt', path('20240903_2240_sweep/sweep/trial_01/'), bins, r'$\\bar{H}_t$', COLOR_MAPPER[r'$\\bar{H}_t$'], ax),\n",
    "    ('dt', path('20240903_2241_sweep/sweep/trial_01/'), bins, r'$H_{(0)}, \\bar{H}_t$', COLOR_MAPPER[r'$H_{(0)}, \\bar{H}_t$'], ax),\n",
    "    #('dt', path('20240903_2242_sweep/sweep/trial_01/'), bins, r'$H_{(1)}, \\bar{H}_t$', COLOCOLOR_MAPPER[r'$H_{(1)}, \\bar{H}_t$'], ax),\n",
    "    #('dt', path('20240903_2243_sweep/sweep/trial_01/'), bins, r'$H_{(2)}, \\bar{H}_t$', COLORCOLOR_MAPPER[r'$H_{(2)}, \\bar{H}_t$'], ax),\n",
    "]\n",
    "\n",
    "plot_model_complexity(estimators, subset='test_s', metric='auc_macro')\n",
    "\n",
    "ax.tick_params(axis='x', labelrotation=0)\n",
    "ax.set_xticks(ax.get_xticks(), ['', '5--10', '', '15--20', '', '25--30', '', '35--40', '', '45--50'])\n",
    "ax.set_xlabel('Number of leaves')\n",
    "ax.set_ylabel('AUROC')\n",
    "ax.grid('on')\n",
    "ax.legend()\n",
    "sns.move_legend(ax, 'lower right', ncol=2, title=None, frameon=True)\n",
    "\n",
    "#fig.savefig('ra_complexity.pdf', dpi=300, bbox_inches='tight', pad_inches=0)"
   ]
  },
  {
   "cell_type": "markdown",
   "id": "484211d9-d9ca-4179-a08a-deec6c2478ff",
   "metadata": {},
   "source": [
    "## Datasets"
   ]
  },
  {
   "cell_type": "markdown",
   "id": "faa61b3e-a478-4c0e-a46b-41b37f45c1b0",
   "metadata": {},
   "source": [
    "### ADNI"
   ]
  },
  {
   "cell_type": "code",
   "execution_count": 39,
   "id": "b1b7a195-c796-450d-8d15-21f5f0f8e799",
   "metadata": {},
   "outputs": [],
   "source": [
    "adni = pd.read_pickle('/mimer/NOBACKUP/groups/inpole/data/adni_Xgy.pkl')"
   ]
  },
  {
   "cell_type": "code",
   "execution_count": 40,
   "id": "79137303-2cd9-41f1-babf-70492d5948b3",
   "metadata": {},
   "outputs": [
    {
     "name": "stdout",
     "output_type": "stream",
     "text": [
      "Patients, n: 1605\n",
      "Age in years, median (IQR): 73.9 (69.3, 78.8)\n",
      "Female, n (%): 715 (44.5)\n",
      "Stages, median IQR): 3.0 (3.0, 3.0)\n"
     ]
    }
   ],
   "source": [
    "describe_dataset(adni, 'RID', 'AGE', 'PTGENDER', i_female=None, v_female='Female')"
   ]
  },
  {
   "cell_type": "code",
   "execution_count": 41,
   "id": "d58eaae7-1b99-446e-8114-52d80112ddd7",
   "metadata": {},
   "outputs": [],
   "source": [
    "#adni_categorical = adni.groupby('RID').first().select_dtypes(include=['category', 'bool'])\n",
    "#adni_categorical = describe_categorical(adni_categorical)\n",
    "#display_dataframe(adni_categorical)"
   ]
  },
  {
   "cell_type": "code",
   "execution_count": 42,
   "id": "ddb1651f-e50d-4f01-9efa-5d79dd4fcc59",
   "metadata": {},
   "outputs": [],
   "source": [
    "#adni_numerical = adni.groupby('RID').first().select_dtypes(include=['number'])\n",
    "#adni_numerical = describe_numerical(adni_numerical)\n",
    "#display_dataframe(adni_numerical, precision=1)"
   ]
  },
  {
   "cell_type": "markdown",
   "id": "01a590be-300c-44bf-9a8c-adbcde02fc6f",
   "metadata": {},
   "source": [
    "### RA"
   ]
  },
  {
   "cell_type": "code",
   "execution_count": 43,
   "id": "c8d77b90-96c1-4fb4-8ee0-c96c29cb8e3e",
   "metadata": {},
   "outputs": [],
   "source": [
    "ra = pd.read_pickle('/mimer/NOBACKUP/groups/inpole/data/ra_Xgy.pkl')"
   ]
  },
  {
   "cell_type": "code",
   "execution_count": 44,
   "id": "66bc3a3f-86c0-4f6e-8690-181cbae516be",
   "metadata": {},
   "outputs": [
    {
     "name": "stdout",
     "output_type": "stream",
     "text": [
      "Patients, n: 4391\n",
      "Age in years, median (IQR): 59.0 (50.0, 67.0)\n",
      "Female, n (%): 3355 (76.5)\n",
      "Stages, median IQR): 5.0 (3.0, 8.0)\n"
     ]
    }
   ],
   "source": [
    "describe_dataset(ra[ra.stage.ge(1)], 'id', 'age', 'gender', i_female=None, v_female='female')"
   ]
  },
  {
   "cell_type": "code",
   "execution_count": 45,
   "id": "e7079c69-69b8-4816-8123-d4a7a4cf6261",
   "metadata": {},
   "outputs": [],
   "source": [
    "#ra_categorical = ra[ra.stage.eq(1)].select_dtypes(include=['category', 'bool'])\n",
    "#ra_categorical = describe_categorical(ra_categorical)\n",
    "#ra_categorical = ra_categorical[ra_categorical.index.get_level_values('Variable') != 'taes']\n",
    "#display_dataframe(ra_categorical)"
   ]
  },
  {
   "cell_type": "code",
   "execution_count": 46,
   "id": "5d57626a-aeaa-4027-8933-c16e41ab8961",
   "metadata": {},
   "outputs": [],
   "source": [
    "#ra_numerical = ra[ra.stage.eq(1)].select_dtypes(include=['number'])\n",
    "#ra_numerical = describe_numerical(ra_numerical)\n",
    "#display_dataframe(ra_numerical)"
   ]
  },
  {
   "cell_type": "markdown",
   "id": "cec310b5-18d7-4705-8619-e54cd23a5443",
   "metadata": {},
   "source": [
    "### Sepsis"
   ]
  },
  {
   "cell_type": "code",
   "execution_count": 47,
   "id": "716a7633-8b1a-42e0-8ef8-556516b5d509",
   "metadata": {},
   "outputs": [],
   "source": [
    "sepsis = pd.read_pickle('/mimer/NOBACKUP/groups/inpole/data/sepsis_data.pkl')"
   ]
  },
  {
   "cell_type": "code",
   "execution_count": 48,
   "id": "076ecabb-24ce-4eba-981e-0b78821d5129",
   "metadata": {},
   "outputs": [
    {
     "name": "stdout",
     "output_type": "stream",
     "text": [
      "Patients, n: 20932\n",
      "Age in years, median (IQR): 66.1 (53.7, 77.9)\n",
      "Female, n (%): 9250 (44.2)\n",
      "Stages, median IQR): 13.0 (10.0, 17.0)\n"
     ]
    }
   ],
   "source": [
    "sepsis['age_y'] = sepsis.age / 365.25\n",
    "describe_dataset(sepsis, 'icustayid', 'age_y', 'gender', i_female=1)"
   ]
  },
  {
   "cell_type": "markdown",
   "id": "27721a5b-22bf-400d-aee8-f4fc39fc7b74",
   "metadata": {},
   "source": [
    "### COPD"
   ]
  },
  {
   "cell_type": "code",
   "execution_count": 49,
   "id": "235522eb-57ad-4472-9b7d-dead6c709ef9",
   "metadata": {},
   "outputs": [],
   "source": [
    "copd = pd.read_csv('/mimer/NOBACKUP/groups/oovgen/inpole/data/copd/COPD_2003.csv')"
   ]
  },
  {
   "cell_type": "code",
   "execution_count": 50,
   "id": "0e9c8b35-5192-4785-8972-ca076b67bd34",
   "metadata": {},
   "outputs": [
    {
     "name": "stdout",
     "output_type": "stream",
     "text": [
      "Patients, n: 7977\n",
      "Age in years, median (IQR): 67.0 (56.0, 77.0)\n",
      "Female, n (%): 3472 (43.5)\n",
      "Stages, median IQR): 18.0 (18.0, 18.0)\n"
     ]
    }
   ],
   "source": [
    "copd.gender = copd.gender.astype('category')\n",
    "describe_dataset(copd, 'PatientID', 'Age', 'gender', i_female=None, v_female='F')"
   ]
  }
 ],
 "metadata": {
  "kernelspec": {
   "display_name": "Python 3 (ipykernel)",
   "language": "python",
   "name": "python3"
  },
  "language_info": {
   "codemirror_mode": {
    "name": "ipython",
    "version": 3
   },
   "file_extension": ".py",
   "mimetype": "text/x-python",
   "name": "python",
   "nbconvert_exporter": "python",
   "pygments_lexer": "ipython3",
   "version": "3.10.8"
  }
 },
 "nbformat": 4,
 "nbformat_minor": 5
}
